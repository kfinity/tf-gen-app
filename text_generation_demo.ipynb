{
 "cells": [
  {
   "cell_type": "markdown",
   "metadata": {
    "id": "t09eeeR5prIJ"
   },
   "source": [
    "##### Copyright 2019 The TensorFlow Authors.\n",
    "\n",
    "File is from https://www.tensorflow.org/tutorials/text/text_generation"
   ]
  },
  {
   "cell_type": "code",
   "execution_count": 1,
   "metadata": {
    "cellView": "form",
    "id": "GCCk8_dHpuNf"
   },
   "outputs": [],
   "source": [
    "#@title Licensed under the Apache License, Version 2.0 (the \"License\");\n",
    "# you may not use this file except in compliance with the License.\n",
    "# You may obtain a copy of the License at\n",
    "#\n",
    "# https://www.apache.org/licenses/LICENSE-2.0\n",
    "#\n",
    "# Unless required by applicable law or agreed to in writing, software\n",
    "# distributed under the License is distributed on an \"AS IS\" BASIS,\n",
    "# WITHOUT WARRANTIES OR CONDITIONS OF ANY KIND, either express or implied.\n",
    "# See the License for the specific language governing permissions and\n",
    "# limitations under the License."
   ]
  },
  {
   "cell_type": "markdown",
   "metadata": {
    "id": "ovpZyIhNIgoq"
   },
   "source": [
    "# Text generation with an RNN"
   ]
  },
  {
   "cell_type": "markdown",
   "metadata": {
    "id": "srXC6pLGLwS6"
   },
   "source": [
    "## Setup"
   ]
  },
  {
   "cell_type": "markdown",
   "metadata": {
    "id": "WGyKZj3bzf9p"
   },
   "source": [
    "### Import TensorFlow and other libraries"
   ]
  },
  {
   "cell_type": "code",
   "execution_count": 34,
   "metadata": {
    "id": "yG_n40gFzf9s"
   },
   "outputs": [],
   "source": [
    "import tensorflow as tf\n",
    "from tensorflow.keras.preprocessing.text import Tokenizer\n",
    "from tensorflow.keras.preprocessing.sequence import pad_sequences\n",
    "\n",
    "import pandas as pd\n",
    "import numpy as np\n",
    "import os\n",
    "import time\n",
    "from nltk import ngrams\n",
    "\n",
    "checkpoint_dir = 'training-checkpoints/'"
   ]
  },
  {
   "cell_type": "code",
   "execution_count": 2,
   "metadata": {},
   "outputs": [
    {
     "name": "stdout",
     "output_type": "stream",
     "text": [
      "1 Physical GPUs, 1 Logical GPUs\n"
     ]
    }
   ],
   "source": [
    "gpus = tf.config.experimental.list_physical_devices('GPU')\n",
    "if gpus:\n",
    "  try:\n",
    "    # Currently, memory growth needs to be the same across GPUs\n",
    "    for gpu in gpus:\n",
    "      tf.config.experimental.set_memory_growth(gpu, True)\n",
    "    logical_gpus = tf.config.experimental.list_logical_devices('GPU')\n",
    "    print(len(gpus), \"Physical GPUs,\", len(logical_gpus), \"Logical GPUs\")\n",
    "  except RuntimeError as e:\n",
    "    # Memory growth must be set before GPUs have been initialized\n",
    "    print(e)"
   ]
  },
  {
   "cell_type": "markdown",
   "metadata": {
    "id": "EHDoRoc5PKWz"
   },
   "source": [
    "### Download the dataset\n",
    "\n",
    "Change the following line to run this code on your own data."
   ]
  },
  {
   "cell_type": "code",
   "execution_count": 4,
   "metadata": {
    "id": "pD_55cOxLkAb"
   },
   "outputs": [],
   "source": [
    "#path_to_file = tf.keras.utils.get_file('speeches.json', 'https://github.com/kfinity/capstone-speeches/raw/master/speeches.json')"
   ]
  },
  {
   "cell_type": "markdown",
   "metadata": {
    "id": "UHjdCjDuSvX_"
   },
   "source": [
    "### Read the data\n",
    "\n",
    "First, look in the text:"
   ]
  },
  {
   "cell_type": "code",
   "execution_count": 8,
   "metadata": {},
   "outputs": [],
   "source": [
    "names = pd.read_csv('names.csv', header=None)\n",
    "names.columns = ['name','gender','count','year']"
   ]
  },
  {
   "cell_type": "code",
   "execution_count": 10,
   "metadata": {
    "id": "aavnuByVymwK"
   },
   "outputs": [
    {
     "name": "stdout",
     "output_type": "stream",
     "text": [
      "Number of names: 97307\n"
     ]
    }
   ],
   "source": [
    "unames = names['name'].unique()\n",
    "# length of text is the number of characters in it\n",
    "print ('Number of names: {}'.format(len(unames)))"
   ]
  },
  {
   "cell_type": "code",
   "execution_count": 11,
   "metadata": {
    "id": "Duhg9NrUymwO"
   },
   "outputs": [
    {
     "name": "stdout",
     "output_type": "stream",
     "text": [
      "['Emma' 'Olivia' 'Ava' 'Isabella' 'Sophia']\n"
     ]
    }
   ],
   "source": [
    "# Take a look at the first 5 names\n",
    "print(unames[:5])"
   ]
  },
  {
   "cell_type": "code",
   "execution_count": 17,
   "metadata": {
    "id": "IlCgQBRVymwR"
   },
   "outputs": [
    {
     "name": "stdout",
     "output_type": "stream",
     "text": [
      "52 unique characters\n"
     ]
    }
   ],
   "source": [
    "# The unique characters in the file\n",
    "vocab = sorted(set(''.join(unames)))\n",
    "print ('{} unique characters'.format(len(vocab)))"
   ]
  },
  {
   "cell_type": "markdown",
   "metadata": {
    "id": "rNnrKn_lL-IJ"
   },
   "source": [
    "## Process the text"
   ]
  },
  {
   "cell_type": "markdown",
   "metadata": {
    "id": "LFjSVAlWzf-N"
   },
   "source": [
    "### Vectorize the text\n",
    "\n",
    "Before training, we need to map strings to a numerical representation. Create two lookup tables: one mapping characters to numbers, and another for numbers to characters."
   ]
  },
  {
   "cell_type": "code",
   "execution_count": 89,
   "metadata": {},
   "outputs": [
    {
     "data": {
      "text/plain": [
       "[[3, 14],\n",
       " [3, 14, 14],\n",
       " [3, 14, 14, 2],\n",
       " [11, 7],\n",
       " [11, 7, 5],\n",
       " [11, 7, 5, 20],\n",
       " [11, 7, 5, 20, 5],\n",
       " [11, 7, 5, 20, 5, 2],\n",
       " [2, 20],\n",
       " [2, 20, 2]]"
      ]
     },
     "execution_count": 89,
     "metadata": {},
     "output_type": "execute_result"
    }
   ],
   "source": [
    "tk = Tokenizer(num_words=None, char_level=True, oov_token='UNK')\n",
    "\n",
    "def get_sequence_of_tokens(corpus):\n",
    "    ## tokenization\n",
    "    tk.fit_on_texts(corpus)\n",
    "    total_words = len(tk.word_index) + 1\n",
    "    \n",
    "    ## convert data to sequence of tokens \n",
    "    input_sequences = []\n",
    "    for line in corpus:\n",
    "        token_list = tk.texts_to_sequences([line])[0]\n",
    "        for i in range(1, len(token_list)):\n",
    "            n_gram_sequence = token_list[:i+1]\n",
    "            input_sequences.append(n_gram_sequence)\n",
    "    return input_sequences, total_words\n",
    "\n",
    "vocab = tk.word_index\n",
    "inp_sequences, total_words = get_sequence_of_tokens(unames)\n",
    "inp_sequences[:10]\n"
   ]
  },
  {
   "cell_type": "code",
   "execution_count": 247,
   "metadata": {},
   "outputs": [],
   "source": [
    "# save tokenizer settings for later\n",
    "import io\n",
    "with io.open('tokenizer.json', 'w', encoding='utf-8') as f:\n",
    "    f.write(json.dumps(tk.to_json(), ensure_ascii=False))"
   ]
  },
  {
   "cell_type": "code",
   "execution_count": 250,
   "metadata": {},
   "outputs": [
    {
     "data": {
      "text/plain": [
       "{'UNK': 1,\n",
       " 'a': 2,\n",
       " 'e': 3,\n",
       " 'n': 4,\n",
       " 'i': 5,\n",
       " 'r': 6,\n",
       " 'l': 7,\n",
       " 's': 8,\n",
       " 'h': 9,\n",
       " 'y': 10,\n",
       " 'o': 11,\n",
       " 't': 12,\n",
       " 'd': 13,\n",
       " 'm': 14,\n",
       " 'k': 15,\n",
       " 'c': 16,\n",
       " 'u': 17,\n",
       " 'j': 18,\n",
       " 'b': 19,\n",
       " 'v': 20,\n",
       " 'z': 21,\n",
       " 'g': 22,\n",
       " 'w': 23,\n",
       " 'p': 24,\n",
       " 'f': 25,\n",
       " 'q': 26,\n",
       " 'x': 27}"
      ]
     },
     "execution_count": 250,
     "metadata": {},
     "output_type": "execute_result"
    }
   ],
   "source": [
    "{v: k for k, v in tk.word_index.items()}"
   ]
  },
  {
   "cell_type": "code",
   "execution_count": 91,
   "metadata": {},
   "outputs": [
    {
     "name": "stdout",
     "output_type": "stream",
     "text": [
      "0\n",
      "Emma\n",
      "[[3, 14], [3, 14, 14], [3, 14, 14, 2]]\n"
     ]
    }
   ],
   "source": [
    "print(len(vocab))\n",
    "print(unames[0])\n",
    "print(inp_sequences[0:3])"
   ]
  },
  {
   "cell_type": "code",
   "execution_count": 93,
   "metadata": {},
   "outputs": [],
   "source": [
    "# have to pad sequences to the same length\n",
    "\n",
    "def generate_padded_sequences(input_sequences):\n",
    "    max_sequence_len = max([len(x) for x in input_sequences])\n",
    "    input_sequences = np.array(pad_sequences(input_sequences, maxlen=max_sequence_len, padding='pre'))\n",
    "    \n",
    "    predictors, label = input_sequences[:,:-1],input_sequences[:,-1]\n",
    "    label = tf.keras.utils.to_categorical(label, num_classes=total_words)\n",
    "    return predictors, label, max_sequence_len\n",
    "\n",
    "predictors, label, max_sequence_len = generate_padded_sequences(inp_sequences)\n",
    "\n",
    "\n",
    "# max name length\n",
    "#ml = max([len(w) for w in unames])\n",
    "\n",
    "#data = pad_sequences(sequences, maxlen=ml, padding='post')\n",
    "#data = np.array(data)\n",
    "#data.shape"
   ]
  },
  {
   "cell_type": "code",
   "execution_count": 60,
   "metadata": {},
   "outputs": [],
   "source": [
    "# series of bigrams\n",
    "#sbg = pd.DataFrame(data).apply(lambda w: list(ngrams(w,2)), 1)\n",
    "# convert into dataframe\n",
    "#bg = pd.DataFrame(list(np.concatenate(sbg.values)), columns=['predictor','label'])\n",
    "#bg.head()"
   ]
  },
  {
   "cell_type": "code",
   "execution_count": 100,
   "metadata": {},
   "outputs": [
    {
     "data": {
      "text/plain": [
       "(538410, 14)"
      ]
     },
     "execution_count": 100,
     "metadata": {},
     "output_type": "execute_result"
    }
   ],
   "source": [
    "predictors.shape"
   ]
  },
  {
   "cell_type": "code",
   "execution_count": 81,
   "metadata": {},
   "outputs": [],
   "source": [
    "#predictors = bg['predictor'].to_numpy()\n",
    "#labels = tf.keras.utils.to_categorical(bg['label'],num_classes=len(vocab)+1)"
   ]
  },
  {
   "cell_type": "code",
   "execution_count": 71,
   "metadata": {},
   "outputs": [],
   "source": [
    "#num_classes = len(vocab)+1"
   ]
  },
  {
   "cell_type": "code",
   "execution_count": 211,
   "metadata": {},
   "outputs": [
    {
     "name": "stdout",
     "output_type": "stream",
     "text": [
      "Model: \"sequential_4\"\n",
      "_________________________________________________________________\n",
      "Layer (type)                 Output Shape              Param #   \n",
      "=================================================================\n",
      "embedding_3 (Embedding)      (None, 14, 100)           2800      \n",
      "_________________________________________________________________\n",
      "lstm_3 (LSTM)                (None, 200)               240800    \n",
      "_________________________________________________________________\n",
      "dense_3 (Dense)              (None, 28)                5628      \n",
      "=================================================================\n",
      "Total params: 249,228\n",
      "Trainable params: 249,228\n",
      "Non-trainable params: 0\n",
      "_________________________________________________________________\n"
     ]
    }
   ],
   "source": [
    "def create_model(input_len, total_chars):\n",
    "    \n",
    "    model = tf.keras.models.Sequential()\n",
    "    \n",
    "    # Add Input Embedding Layer\n",
    "    model.add(tf.keras.layers.Embedding(total_chars, 100, input_length=input_len))\n",
    "    \n",
    "    # Add Hidden Layer 1 - LSTM Layer\n",
    "    model.add(tf.keras.layers.LSTM(200))\n",
    "    #model.add(tf.keras.layers.Dropout(0.1))\n",
    "    \n",
    "    # Add Output Layer\n",
    "    model.add(tf.keras.layers.Dense(total_chars, activation='softmax'))\n",
    "\n",
    "    model.compile(loss='categorical_crossentropy', optimizer='adam')\n",
    "    \n",
    "    return model\n",
    "\n",
    "input_len = max_sequence_len - 1\n",
    "model = create_model(input_len, total_words)\n",
    "model.summary()"
   ]
  },
  {
   "cell_type": "code",
   "execution_count": 213,
   "metadata": {},
   "outputs": [
    {
     "name": "stdout",
     "output_type": "stream",
     "text": [
      "Epoch 1/10\n",
      "16826/16826 [==============================] - 52s 3ms/step - loss: 1.7668\n",
      "Epoch 2/10\n",
      "16826/16826 [==============================] - 52s 3ms/step - loss: 1.7605\n",
      "Epoch 3/10\n",
      "16826/16826 [==============================] - 52s 3ms/step - loss: 1.7555\n",
      "Epoch 4/10\n",
      "16826/16826 [==============================] - 52s 3ms/step - loss: 1.7509\n",
      "Epoch 5/10\n",
      "16826/16826 [==============================] - 52s 3ms/step - loss: 1.7469\n",
      "Epoch 6/10\n",
      "16826/16826 [==============================] - 52s 3ms/step - loss: 1.7434\n",
      "Epoch 7/10\n",
      "16826/16826 [==============================] - 52s 3ms/step - loss: 1.7397\n",
      "Epoch 8/10\n",
      "16826/16826 [==============================] - 52s 3ms/step - loss: 1.7372\n",
      "Epoch 9/10\n",
      "16826/16826 [==============================] - 52s 3ms/step - loss: 1.7338\n",
      "Epoch 10/10\n",
      "16826/16826 [==============================] - 52s 3ms/step - loss: 1.7313\n"
     ]
    }
   ],
   "source": [
    "history = model.fit(predictors, label, epochs=10)"
   ]
  },
  {
   "cell_type": "code",
   "execution_count": 214,
   "metadata": {},
   "outputs": [
    {
     "data": {
      "image/png": "[encoded data removed]",
      "text/plain": [
       "<Figure size 432x288 with 1 Axes>"
      ]
     },
     "metadata": {
      "needs_background": "light"
     },
     "output_type": "display_data"
    }
   ],
   "source": [
    "import matplotlib.pyplot as plt\n",
    "def plot_loss(history):\n",
    "    plt.plot(history.history['loss'], label='train')\n",
    "    #plt.plot(history.history['val_loss'], label='validation')\n",
    "    #plt.ylim([0, 50])\n",
    "    plt.xlabel('Epoch')\n",
    "    plt.ylabel('Loss')\n",
    "    plt.legend()\n",
    "    plt.grid(True)\n",
    "\n",
    "plot_loss(history)"
   ]
  },
  {
   "cell_type": "code",
   "execution_count": 204,
   "metadata": {},
   "outputs": [],
   "source": [
    "def generate_text(seed_text, model, randomness=True, temperature=0.25, max_sequence_len=15):\n",
    "    \n",
    "    # Low temperatures results in more predictable text.\n",
    "    # Higher temperatures results in more surprising text.\n",
    "    # Experiment to find the best setting.\n",
    "    temperature = temperature\n",
    "    \n",
    "    inv_map = {v: k for k, v in tk.word_index.items()}\n",
    "    \n",
    "    \n",
    "    # Here batch size == 1\n",
    "    model.reset_states()\n",
    "    predicted_id = 1\n",
    "    while predicted_id != 0: #for i in range(num_generate):\n",
    "        input_eval = tk.texts_to_sequences([seed_text])[0]\n",
    "        input_eval = pad_sequences([input_eval], maxlen=max_sequence_len-1, padding='pre')\n",
    "        predictions = model(input_eval)\n",
    "        # remove the batch dimension\n",
    "        #predictions = tf.squeeze(predictions, 0)\n",
    "\n",
    "        # using a categorical distribution to predict the character returned by the model\n",
    "        if randomness:\n",
    "            predictions = predictions / temperature\n",
    "            predicted_id = tf.random.categorical(predictions, num_samples=1)[-1,0].numpy()\n",
    "        else:\n",
    "            predicted_id = np.argmax(predictions)\n",
    "\n",
    "        # We pass the predicted character as the next input to the model\n",
    "        # along with the previous hidden state\n",
    "        #input_eval = tf.expand_dims([predicted_id], 0)\n",
    "        if predicted_id == 0:\n",
    "            break # end of name\n",
    "        if predicted_id == 1:\n",
    "            break\n",
    "        if len(seed_text) > 14:\n",
    "            break\n",
    "\n",
    "        seed_text += str(inv_map[predicted_id])\n",
    "\n",
    "    return seed_text #(start_string + ''.join(text_generated))\n",
    "    "
   ]
  },
  {
   "cell_type": "raw",
   "metadata": {},
   "source": [
    "    #for _ in range(next_words):\n",
    "        token_list = tk.texts_to_sequences([seed_text])[0]\n",
    "        token_list = pad_sequences([token_list], maxlen=max_sequence_len-1, padding='pre')\n",
    "        predicted = model.predict_classes(token_list, verbose=0)\n",
    "        \n",
    "        output_word = \"\"\n",
    "        for word,index in tk.word_index.items():\n",
    "            if index == predicted:\n",
    "                output_word = word\n",
    "                break\n",
    "        seed_text += \"\"+output_word\n",
    "    return seed_text.title()"
   ]
  },
  {
   "cell_type": "code",
   "execution_count": 209,
   "metadata": {},
   "outputs": [
    {
     "data": {
      "text/plain": [
       "'Maricelseerpura'"
      ]
     },
     "execution_count": 209,
     "metadata": {},
     "output_type": "execute_result"
    }
   ],
   "source": [
    "import random\n",
    "generate_text('M', model, True, 0.1)"
   ]
  },
  {
   "cell_type": "code",
   "execution_count": 215,
   "metadata": {},
   "outputs": [
    {
     "name": "stdout",
     "output_type": "stream",
     "text": [
      "WARNING:tensorflow:From /home/kfinity/anaconda3/envs/python38/lib/python3.8/site-packages/tensorflow/python/training/tracking/tracking.py:111: Model.state_updates (from tensorflow.python.keras.engine.training) is deprecated and will be removed in a future version.\n",
      "Instructions for updating:\n",
      "This property should not be used in TensorFlow 2.0, as updates are applied automatically.\n",
      "WARNING:tensorflow:From /home/kfinity/anaconda3/envs/python38/lib/python3.8/site-packages/tensorflow/python/training/tracking/tracking.py:111: Layer.updates (from tensorflow.python.keras.engine.base_layer) is deprecated and will be removed in a future version.\n",
      "Instructions for updating:\n",
      "This property should not be used in TensorFlow 2.0, as updates are applied automatically.\n",
      "INFO:tensorflow:Assets written to: namegen/assets\n"
     ]
    }
   ],
   "source": [
    "model.save('namegen')"
   ]
  },
  {
   "cell_type": "code",
   "execution_count": 216,
   "metadata": {},
   "outputs": [
    {
     "data": {
      "text/plain": [
       "4"
      ]
     },
     "execution_count": 216,
     "metadata": {},
     "output_type": "execute_result"
    }
   ],
   "source": [
    "token_list = tk.texts_to_sequences(['A'])[0]\n",
    "token_list = pad_sequences([token_list], maxlen=max_sequence_len-1, padding='pre')\n",
    "predicted = model(token_list)\n",
    "np.argmax(predicted)"
   ]
  },
  {
   "cell_type": "code",
   "execution_count": 282,
   "metadata": {},
   "outputs": [
    {
     "data": {
      "text/plain": [
       "['Ann',\n",
       " 'Anna',\n",
       " 'Annal',\n",
       " 'Annali',\n",
       " 'Annalis',\n",
       " 'Annalisa',\n",
       " 'Annalisab',\n",
       " 'Annalisabe',\n",
       " 'Annalisabet',\n",
       " 'Annalisabeth',\n",
       " 'Annalisabetha',\n",
       " 'Annalisabethan',\n",
       " 'Annalisabethann']"
      ]
     },
     "execution_count": 282,
     "metadata": {},
     "output_type": "execute_result"
    }
   ],
   "source": [
    "word2seq = {'UNK': 1,\n",
    "     'a': 2,\n",
    "     'e': 3,\n",
    "     'n': 4,\n",
    "     'i': 5,\n",
    "     'r': 6,\n",
    "     'l': 7,\n",
    "     's': 8,\n",
    "     'h': 9,\n",
    "     'y': 10,\n",
    "     'o': 11,\n",
    "     't': 12,\n",
    "     'd': 13,\n",
    "     'm': 14,\n",
    "     'k': 15,\n",
    "     'c': 16,\n",
    "     'u': 17,\n",
    "     'j': 18,\n",
    "     'b': 19,\n",
    "     'v': 20,\n",
    "     'z': 21,\n",
    "     'g': 22,\n",
    "     'w': 23,\n",
    "     'p': 24,\n",
    "     'f': 25,\n",
    "     'q': 26,\n",
    "     'x': 27}\n",
    "seq2word = {v: k for k, v in word2seq.items()}\n",
    "\n",
    "ml = discovery.build('ml', 'v1')\n",
    "\n",
    "\n",
    "def get_names(names):\n",
    "    temperature = 0.25\n",
    "    max_len = 15\n",
    "    randomness = True\n",
    "    seed_text = names[-1]\n",
    "\n",
    "    # convert to sequence\n",
    "    input_eval = [word2seq[c] for c in seed_text.lower()]\n",
    "    # pad to 14 items\n",
    "    input_eval = [0] * (max_len-1-len(input_eval)) + input_eval\n",
    "    \n",
    "    request_body = { 'instances': [input_eval] }\n",
    "    request = ml.projects().predict(\n",
    "        name='projects/sys6016codeathon3/models/namegen/versions/v1',\n",
    "        body=request_body)\n",
    "\n",
    "    response = request.execute()\n",
    "    if 'error' in response:\n",
    "        # break\n",
    "        print('error: ' + str(response))\n",
    "        return names\n",
    "    \n",
    "    predictions = np.array(response['predictions'][0]['dense_3'])\n",
    "    # remove the batch dimension\n",
    "    #predictions = tf.squeeze(predictions, 0)\n",
    "\n",
    "    # using a categorical distribution to predict the character returned by the model\n",
    "    #if randomness:\n",
    "    #    predictions = predictions / temperature\n",
    "    #    predicted_id = tf.random.categorical(predictions, num_samples=1)[-1,0].numpy()\n",
    "    #else:\n",
    "    predicted_id = np.argmax(predictions)\n",
    "\n",
    "    # We pass the predicted character as the next input to the model\n",
    "    # along with the previous hidden state\n",
    "\n",
    "    if predicted_id > 1 and len(seed_text) < max_len:\n",
    "        seed_text += str(seq2word[predicted_id])\n",
    "        names.append(seed_text)\n",
    "        names = get_names(names)\n",
    "\n",
    "    return names\n",
    "    \n",
    "get_names(['Ann'])"
   ]
  },
  {
   "cell_type": "code",
   "execution_count": 278,
   "metadata": {},
   "outputs": [
    {
     "ename": "NameError",
     "evalue": "name 'predictions' is not defined",
     "output_type": "error",
     "traceback": [
      "\u001b[0;31m---------------------------------------------------------------------------\u001b[0m",
      "\u001b[0;31mNameError\u001b[0m                                 Traceback (most recent call last)",
      "\u001b[0;32m<ipython-input-278-fd2951b82103>\u001b[0m in \u001b[0;36m<module>\u001b[0;34m\u001b[0m\n\u001b[0;32m----> 1\u001b[0;31m \u001b[0mpredictions\u001b[0m\u001b[0;34m\u001b[0m\u001b[0;34m\u001b[0m\u001b[0m\n\u001b[0m",
      "\u001b[0;31mNameError\u001b[0m: name 'predictions' is not defined"
     ]
    }
   ],
   "source": [
    "predictions"
   ]
  },
  {
   "cell_type": "code",
   "execution_count": 273,
   "metadata": {},
   "outputs": [
    {
     "data": {
      "text/plain": [
       "[0, 0, 0, 0, 0, 0, 9, 3, 7, 7, 11, 11, 11, 11]"
      ]
     },
     "execution_count": 273,
     "metadata": {},
     "output_type": "execute_result"
    }
   ],
   "source": [
    "word2seq = {'UNK': 1,\n",
    "     'a': 2,\n",
    "     'e': 3,\n",
    "     'n': 4,\n",
    "     'i': 5,\n",
    "     'r': 6,\n",
    "     'l': 7,\n",
    "     's': 8,\n",
    "     'h': 9,\n",
    "     'y': 10,\n",
    "     'o': 11,\n",
    "     't': 12,\n",
    "     'd': 13,\n",
    "     'm': 14,\n",
    "     'k': 15,\n",
    "     'c': 16,\n",
    "     'u': 17,\n",
    "     'j': 18,\n",
    "     'b': 19,\n",
    "     'v': 20,\n",
    "     'z': 21,\n",
    "     'g': 22,\n",
    "     'w': 23,\n",
    "     'p': 24,\n",
    "     'f': 25,\n",
    "     'q': 26,\n",
    "     'x': 27}\n",
    "seq2word = {v: k for k, v in word2seq.items()}\n",
    "max_len = 15\n",
    "\n",
    "seq = [word2seq[c] for c in 'helloooo']\n",
    "seq = [0] * (max_len-1-len(seq)) + seq\n",
    "seq"
   ]
  },
  {
   "cell_type": "code",
   "execution_count": 267,
   "metadata": {},
   "outputs": [
    {
     "data": {
      "text/plain": [
       "'hello'"
      ]
     },
     "execution_count": 267,
     "metadata": {},
     "output_type": "execute_result"
    }
   ],
   "source": [
    "str1 = '000hello'\n",
    "str2 = ''\n",
    "for c in str1:\n",
    "    if c in word2seq.keys():\n",
    "        str2 += c\n",
    "str2"
   ]
  },
  {
   "cell_type": "code",
   "execution_count": 284,
   "metadata": {},
   "outputs": [
    {
     "data": {
      "text/plain": [
       "['Hi', 'Hello', 'Yes']"
      ]
     },
     "execution_count": 284,
     "metadata": {},
     "output_type": "execute_result"
    }
   ],
   "source": [
    "[s.capitalize() for s in ['hi','hello','yes']]"
   ]
  },
  {
   "cell_type": "code",
   "execution_count": 259,
   "metadata": {},
   "outputs": [
    {
     "name": "stdout",
     "output_type": "stream",
     "text": [
      "{'predictions': [{'dense_3': [3.1598471061933253e-10, 2.805835841446225e-10, 0.03938860073685646, 0.00758354039862752, 0.18970879912376404, 0.03228096291422844, 0.12639151513576508, 0.17454369366168976, 0.044460222125053406, 0.02167532406747341, 0.023425813764333725, 0.0014150222996249795, 0.018258733674883842, 0.07893252372741699, 0.06286615133285522, 0.019366944208741188, 0.008195511065423489, 0.02831641584634781, 0.005635043140500784, 0.04026518389582634, 0.029881523922085762, 0.025481311604380608, 0.004272173158824444, 0.0016230714973062277, 0.004249899182468653, 0.005117462482303381, 0.003391669364646077, 0.003272879170253873]}]}\n"
     ]
    }
   ],
   "source": [
    "os.environ[\"GOOGLE_APPLICATION_CREDENTIALS\"]=\"/home/kfinity/keys/sys6016codeathon3-3ca2fa6ec540.json\"\n",
    "\n",
    "from google.api_core.client_options import ClientOptions\n",
    "from googleapiclient import discovery\n",
    "\n",
    "#endpoint = 'https://ml.googleapis.com'\n",
    "#client_options = ClientOptions(api_endpoint=endpoint)\n",
    "ml = discovery.build('ml', 'v1', client_options=client_options)\n",
    "\n",
    "# token_list is my variable, output looks like [[0, 0, 0, 0, 0, 0, 0, 0, 0, 0, 0, 0, 0, 2]]\n",
    "inputs = token_list.tolist() \n",
    "request_body = { 'instances': inputs }\n",
    "request = ml.projects().predict(\n",
    "    name='projects/sys6016codeathon3/models/namegen/versions/v1',\n",
    "    body=request_body)\n",
    "\n",
    "response = request.execute()\n",
    "print(response['predictions'][0]['dense_3'])"
   ]
  },
  {
   "cell_type": "code",
   "execution_count": 244,
   "metadata": {},
   "outputs": [
    {
     "name": "stdout",
     "output_type": "stream",
     "text": [
      "{'predictions': [{'dense_3': [3.1598471061933253e-10, 2.805835841446225e-10, 0.03938860073685646, 0.00758354039862752, 0.18970879912376404, 0.03228096291422844, 0.12639151513576508, 0.17454369366168976, 0.044460222125053406, 0.02167532406747341, 0.023425813764333725, 0.0014150222996249795, 0.018258733674883842, 0.07893252372741699, 0.06286615133285522, 0.019366944208741188, 0.008195511065423489, 0.02831641584634781, 0.005635043140500784, 0.04026518389582634, 0.029881523922085762, 0.025481311604380608, 0.004272173158824444, 0.0016230714973062277, 0.004249899182468653, 0.005117462482303381, 0.003391669364646077, 0.003272879170253873]}]}\n"
     ]
    }
   ],
   "source": [
    "service = discovery.build('ml', 'v1')\n",
    "name = 'projects/sys6016codeathon3/models/namegen'\n",
    "\n",
    "#if version is not None:\n",
    "#    name += '/versions/{}'.format(version)\n",
    "\n",
    "response = service.projects().predict(\n",
    "    name=name,\n",
    "    body={'instances': token_list.tolist()}\n",
    ").execute()\n",
    "\n",
    "if 'error' in response:\n",
    "    raise RuntimeError(response['error'])\n",
    "\n",
    "print(response)"
   ]
  },
  {
   "cell_type": "code",
   "execution_count": 239,
   "metadata": {},
   "outputs": [
    {
     "name": "stdout",
     "output_type": "stream",
     "text": [
      "Prediction failed: Error during model execution: <_MultiThreadedRendezvous of RPC that terminated with:\n",
      "\tstatus = StatusCode.INVALID_ARGUMENT\n",
      "\tdetails = \"{{function_node __inference__wrapped_model_1601105}} {{function_node __inference__wrapped_model_1601105}} [_Derived_]{{function_node __inference_standard_lstm_1600822_specialized_for_sequential_4_lstm_3_PartitionedCall_at___inference__wrapped_model_1601105}} {{function_node __inference_standard_lstm_1600822_specialized_for_sequential_4_lstm_3_PartitionedCall_at___inference__wrapped_model_1601105}} transpose expects a vector of size 2. But input(1) is a vector of size 3\n",
      "\t [[{{node transpose}}]]\n",
      "\t [[sequential_4/lstm_3/PartitionedCall]]\n",
      "\t [[StatefulPartitionedCall/StatefulPartitionedCall]]\"\n",
      "\tdebug_error_string = \"{\"created\":\"@1605391801.256473380\",\"description\":\"Error received from peer ipv4:127.0.0.1:8081\",\"file\":\"src/core/lib/surface/call.cc\",\"file_line\":1061,\"grpc_message\":\"{{function_node __inference__wrapped_model_1601105}} {{function_node __inference__wrapped_model_1601105}} [_Derived_]{{function_node __inference_standard_lstm_1600822_specialized_for_sequential_4_lstm_3_PartitionedCall_at___inference__wrapped_model_1601105}} {{function_node __inference_standard_lstm_1600822_specialized_for_sequential_4_lstm_3_PartitionedCall_at___inference__wrapped_model_1601105}} transpose expects a vector of size 2. But input(1) is a vector of size 3\\n\\t [[{{node transpose}}]]\\n\\t [[sequential_4/lstm_3/PartitionedCall]]\\n\\t [[StatefulPartitionedCall/StatefulPartitionedCall]]\",\"grpc_status\":3}\"\n",
      ">\n"
     ]
    }
   ],
   "source": [
    "print(response['error'])"
   ]
  },
  {
   "cell_type": "code",
   "execution_count": 177,
   "metadata": {},
   "outputs": [
    {
     "data": {
      "text/plain": [
       "<tf.Tensor: shape=(1, 1), dtype=int64, numpy=array([[17]])>"
      ]
     },
     "execution_count": 177,
     "metadata": {},
     "output_type": "execute_result"
    }
   ],
   "source": [
    "tf.random.categorical(predicted, num_samples=1)#[-1,0].numpy()"
   ]
  },
  {
   "cell_type": "code",
   "execution_count": 186,
   "metadata": {},
   "outputs": [
    {
     "data": {
      "text/plain": [
       "<tf.Tensor: shape=(1, 28), dtype=float32, numpy=\n",
       "array([[0.01366418, 0.01366418, 0.313645  , 0.12118348, 0.01457356,\n",
       "        0.18714814, 0.02560452, 0.0155455 , 0.01379823, 0.01404277,\n",
       "        0.02096095, 0.02522721, 0.01396179, 0.01372603, 0.01389207,\n",
       "        0.01369501, 0.01382707, 0.01439387, 0.01377554, 0.01376426,\n",
       "        0.01387468, 0.01376271, 0.01371218, 0.0136762 , 0.01383839,\n",
       "        0.01371272, 0.013665  , 0.01366479]], dtype=float32)>"
      ]
     },
     "execution_count": 186,
     "metadata": {},
     "output_type": "execute_result"
    }
   ],
   "source": [
    "tf.nn.softmax(predicted/0.1)"
   ]
  },
  {
   "cell_type": "code",
   "execution_count": 197,
   "metadata": {},
   "outputs": [
    {
     "data": {
      "text/plain": [
       "<AxesSubplot:>"
      ]
     },
     "execution_count": 197,
     "metadata": {},
     "output_type": "execute_result"
    },
    {
     "data": {
      "image/png": "[encoded data removed]",
      "text/plain": [
       "<Figure size 432x288 with 1 Axes>"
      ]
     },
     "metadata": {
      "needs_background": "light"
     },
     "output_type": "display_data"
    }
   ],
   "source": [
    "names['name'].str[0].hist(bins=26)"
   ]
  },
  {
   "cell_type": "code",
   "execution_count": 198,
   "metadata": {},
   "outputs": [
    {
     "data": {
      "text/plain": [
       "array(['E', 'O', 'A', 'I', 'S', 'M', 'C', 'H', 'V', 'G', 'P', 'R', 'L',\n",
       "       'N', 'Z', 'B', 'K', 'Q', 'W', 'J', 'D', 'T', 'F', 'X', 'Y', 'U'],\n",
       "      dtype=object)"
      ]
     },
     "execution_count": 198,
     "metadata": {},
     "output_type": "execute_result"
    }
   ],
   "source": [
    "names['name'].str[0].unique()"
   ]
  },
  {
   "cell_type": "markdown",
   "metadata": {
    "id": "bbmsf23Bymwe"
   },
   "source": [
    "### The prediction task"
   ]
  },
  {
   "cell_type": "markdown",
   "metadata": {
    "id": "wssHQ1oGymwe"
   },
   "source": [
    "Given a character, or a sequence of characters, what is the most probable next character? This is the task we're training the model to perform. The input to the model will be a sequence of characters, and we train the model to predict the output—the following character at each time step.\n",
    "\n",
    "Since RNNs maintain an internal state that depends on the previously seen elements, given all the characters computed until this moment, what is the next character?\n"
   ]
  },
  {
   "cell_type": "markdown",
   "metadata": {
    "id": "hgsVvVxnymwf"
   },
   "source": [
    "### Create training examples and targets\n",
    "\n",
    "Next divide the text into example sequences. Each input sequence will contain `seq_length` characters from the text.\n",
    "\n",
    "For each input sequence, the corresponding targets contain the same length of text, except shifted one character to the right.\n",
    "\n",
    "So break the text into chunks of `seq_length+1`. For example, say `seq_length` is 4 and our text is \"Hello\". The input sequence would be \"Hell\", and the target sequence \"ello\".\n",
    "\n",
    "To do this first use the `tf.data.Dataset.from_tensor_slices` function to convert the text vector into a stream of character indices."
   ]
  },
  {
   "cell_type": "code",
   "execution_count": 9,
   "metadata": {
    "id": "0UHJDA39zf-O"
   },
   "outputs": [
    {
     "name": "stdout",
     "output_type": "stream",
     "text": [
      "[\n",
      "M\n",
      "u\n",
      "s\n",
      "i\n"
     ]
    }
   ],
   "source": [
    "# The maximum length sentence we want for a single input in characters\n",
    "seq_length = 100\n",
    "examples_per_epoch = len(text)//(seq_length+1)\n",
    "\n",
    "# Create training examples / targets\n",
    "char_dataset = tf.data.Dataset.from_tensor_slices(text_as_int)\n",
    "\n",
    "for i in char_dataset.take(5):\n",
    "  print(idx2char[i.numpy()])"
   ]
  },
  {
   "cell_type": "markdown",
   "metadata": {
    "id": "-ZSYAcQV8OGP"
   },
   "source": [
    "The `batch` method lets us easily convert these individual characters to sequences of the desired size."
   ]
  },
  {
   "cell_type": "code",
   "execution_count": 10,
   "metadata": {
    "id": "l4hkDU3i7ozi"
   },
   "outputs": [
    {
     "name": "stdout",
     "output_type": "stream",
     "text": [
      "'[Music] [Music] [Music] [Music] [Music] [Applause] unbelievable thank you hello Green Bay thank you i'\n",
      "\"n the great state of Wisconsin home of the legendary Green Bay Packers [Applause] and there's no plac\"\n",
      "\"e I'd rather be than right here in America's heartland right and there's no one I'd rather be within \"\n",
      "\"you the hard-working Patriots who make our country run so well and it's running right now better mayb\"\n",
      "'e that it ever has thank you the strength of our nation is found in the heart of our people so true t'\n"
     ]
    }
   ],
   "source": [
    "sequences = char_dataset.batch(seq_length+1, drop_remainder=True)\n",
    "\n",
    "for item in sequences.take(5):\n",
    "  print(repr(''.join(idx2char[item.numpy()])))"
   ]
  },
  {
   "cell_type": "markdown",
   "metadata": {
    "id": "UbLcIPBj_mWZ"
   },
   "source": [
    "For each sequence, duplicate and shift it to form the input and target text by using the `map` method to apply a simple function to each batch:"
   ]
  },
  {
   "cell_type": "code",
   "execution_count": 11,
   "metadata": {
    "id": "9NGu-FkO_kYU"
   },
   "outputs": [],
   "source": [
    "def split_input_target(chunk):\n",
    "  input_text = chunk[:-1]\n",
    "  target_text = chunk[1:]\n",
    "  return input_text, target_text\n",
    "\n",
    "dataset = sequences.map(split_input_target)"
   ]
  },
  {
   "cell_type": "markdown",
   "metadata": {
    "id": "hiCopyGZymwi"
   },
   "source": [
    "Print the first examples input and target values:"
   ]
  },
  {
   "cell_type": "code",
   "execution_count": 12,
   "metadata": {
    "id": "GNbw-iR0ymwj"
   },
   "outputs": [
    {
     "name": "stdout",
     "output_type": "stream",
     "text": [
      "Input data:  '[Music] [Music] [Music] [Music] [Music] [Applause] unbelievable thank you hello Green Bay thank you '\n",
      "Target data: 'Music] [Music] [Music] [Music] [Music] [Applause] unbelievable thank you hello Green Bay thank you i'\n"
     ]
    }
   ],
   "source": [
    "for input_example, target_example in  dataset.take(1):\n",
    "  print ('Input data: ', repr(''.join(idx2char[input_example.numpy()])))\n",
    "  print ('Target data:', repr(''.join(idx2char[target_example.numpy()])))"
   ]
  },
  {
   "cell_type": "markdown",
   "metadata": {
    "id": "_33OHL3b84i0"
   },
   "source": [
    "Each index of these vectors are processed as one time step. For the input at time step 0, the model receives the index for \"F\" and trys to predict the index for \"i\" as the next character. At the next timestep, it does the same thing but the `RNN` considers the previous step context in addition to the current input character."
   ]
  },
  {
   "cell_type": "code",
   "execution_count": 13,
   "metadata": {
    "id": "0eBu9WZG84i0"
   },
   "outputs": [
    {
     "name": "stdout",
     "output_type": "stream",
     "text": [
      "Step    0\n",
      "  input: 53 ('[')\n",
      "  expected output: 39 ('M')\n",
      "Step    1\n",
      "  input: 39 ('M')\n",
      "  expected output: 76 ('u')\n",
      "Step    2\n",
      "  input: 76 ('u')\n",
      "  expected output: 74 ('s')\n",
      "Step    3\n",
      "  input: 74 ('s')\n",
      "  expected output: 64 ('i')\n",
      "Step    4\n",
      "  input: 64 ('i')\n",
      "  expected output: 58 ('c')\n"
     ]
    }
   ],
   "source": [
    "for i, (input_idx, target_idx) in enumerate(zip(input_example[:5], target_example[:5])):\n",
    "  print(\"Step {:4d}\".format(i))\n",
    "  print(\"  input: {} ({:s})\".format(input_idx, repr(idx2char[input_idx])))\n",
    "  print(\"  expected output: {} ({:s})\".format(target_idx, repr(idx2char[target_idx])))"
   ]
  },
  {
   "cell_type": "markdown",
   "metadata": {
    "id": "MJdfPmdqzf-R"
   },
   "source": [
    "### Create training batches\n",
    "\n",
    "We used `tf.data` to split the text into manageable sequences. But before feeding this data into the model, we need to shuffle the data and pack it into batches."
   ]
  },
  {
   "cell_type": "code",
   "execution_count": 14,
   "metadata": {
    "id": "p2pGotuNzf-S"
   },
   "outputs": [
    {
     "data": {
      "text/plain": [
       "<BatchDataset shapes: ((64, 100), (64, 100)), types: (tf.int64, tf.int64)>"
      ]
     },
     "execution_count": 14,
     "metadata": {},
     "output_type": "execute_result"
    }
   ],
   "source": [
    "# Batch size\n",
    "BATCH_SIZE = 64\n",
    "\n",
    "# Buffer size to shuffle the dataset\n",
    "# (TF data is designed to work with possibly infinite sequences,\n",
    "# so it doesn't attempt to shuffle the entire sequence in memory. Instead,\n",
    "# it maintains a buffer in which it shuffles elements).\n",
    "BUFFER_SIZE = 10000\n",
    "\n",
    "dataset = dataset.shuffle(BUFFER_SIZE).batch(BATCH_SIZE, drop_remainder=True)\n",
    "\n",
    "dataset"
   ]
  },
  {
   "cell_type": "markdown",
   "metadata": {
    "id": "r6oUuElIMgVx"
   },
   "source": [
    "## Build The Model"
   ]
  },
  {
   "cell_type": "markdown",
   "metadata": {
    "id": "m8gPwEjRzf-Z"
   },
   "source": [
    "Use `tf.keras.Sequential` to define the model. For this simple example three layers are used to define our model:\n",
    "\n",
    "* `tf.keras.layers.Embedding`: The input layer. A trainable lookup table that will map the numbers of each character to a vector with `embedding_dim` dimensions;\n",
    "* `tf.keras.layers.GRU`: A type of RNN with size `units=rnn_units` (You can also use a LSTM layer here.)\n",
    "* `tf.keras.layers.Dense`: The output layer, with `vocab_size` outputs."
   ]
  },
  {
   "cell_type": "code",
   "execution_count": 15,
   "metadata": {
    "id": "zHT8cLh7EAsg"
   },
   "outputs": [],
   "source": [
    "# Length of the vocabulary in chars\n",
    "vocab_size = len(vocab)\n",
    "\n",
    "# The embedding dimension\n",
    "embedding_dim = 256\n",
    "\n",
    "# Number of RNN units\n",
    "rnn_units = 1024"
   ]
  },
  {
   "cell_type": "code",
   "execution_count": 16,
   "metadata": {
    "id": "MtCrdfzEI2N0"
   },
   "outputs": [],
   "source": [
    "def build_model(vocab_size, embedding_dim, rnn_units, batch_size):\n",
    "  model = tf.keras.Sequential([\n",
    "    tf.keras.layers.Embedding(vocab_size, embedding_dim,\n",
    "                              batch_input_shape=[batch_size, None]),\n",
    "    tf.keras.layers.GRU(rnn_units,\n",
    "                        return_sequences=True,\n",
    "                        stateful=True,\n",
    "                        recurrent_initializer='glorot_uniform'),\n",
    "    tf.keras.layers.Dense(vocab_size)\n",
    "  ])\n",
    "  return model"
   ]
  },
  {
   "cell_type": "code",
   "execution_count": 37,
   "metadata": {
    "id": "wwsrpOik5zhv"
   },
   "outputs": [],
   "source": [
    "model = build_model(\n",
    "    vocab_size = len(vocab),\n",
    "    embedding_dim=embedding_dim,\n",
    "    rnn_units=rnn_units,\n",
    "    batch_size=BATCH_SIZE)"
   ]
  },
  {
   "cell_type": "markdown",
   "metadata": {
    "id": "RkA5upJIJ7W7"
   },
   "source": [
    "For each character the model looks up the embedding, runs the GRU one timestep with the embedding as input, and applies the dense layer to generate logits predicting the log-likelihood of the next character:\n",
    "\n",
    "![A drawing of the data passing through the model](images/text_generation_training.png)"
   ]
  },
  {
   "cell_type": "markdown",
   "metadata": {
    "id": "gKbfm04amhXk"
   },
   "source": [
    "Please note that we choose to Keras sequential model here since all the layers in the model only have single input and produce single output. In case you want to retrieve and reuse the states from stateful RNN layer, you might want to build your model with Keras functional API or model subclassing. Please check [Keras RNN guide](https://www.tensorflow.org/guide/keras/rnn#rnn_state_reuse) for more details."
   ]
  },
  {
   "cell_type": "markdown",
   "metadata": {
    "id": "-ubPo0_9Prjb"
   },
   "source": [
    "## Try the model\n",
    "\n",
    "Now run the model to see that it behaves as expected.\n",
    "\n",
    "First check the shape of the output:"
   ]
  },
  {
   "cell_type": "code",
   "execution_count": 38,
   "metadata": {
    "id": "C-_70kKAPrPU"
   },
   "outputs": [
    {
     "name": "stdout",
     "output_type": "stream",
     "text": [
      "(64, 100, 88) # (batch_size, sequence_length, vocab_size)\n"
     ]
    }
   ],
   "source": [
    "for input_example_batch, target_example_batch in dataset.take(1):\n",
    "  example_batch_predictions = model(input_example_batch)\n",
    "  print(example_batch_predictions.shape, \"# (batch_size, sequence_length, vocab_size)\")"
   ]
  },
  {
   "cell_type": "markdown",
   "metadata": {
    "id": "Q6NzLBi4VM4o"
   },
   "source": [
    "In the above example the sequence length of the input is `100` but the model can be run on inputs of any length:"
   ]
  },
  {
   "cell_type": "code",
   "execution_count": 39,
   "metadata": {
    "id": "vPGmAAXmVLGC"
   },
   "outputs": [
    {
     "name": "stdout",
     "output_type": "stream",
     "text": [
      "Model: \"sequential_3\"\n",
      "_________________________________________________________________\n",
      "Layer (type)                 Output Shape              Param #   \n",
      "=================================================================\n",
      "embedding_3 (Embedding)      (64, None, 256)           22528     \n",
      "_________________________________________________________________\n",
      "gru_3 (GRU)                  (64, None, 1024)          3938304   \n",
      "_________________________________________________________________\n",
      "dense_3 (Dense)              (64, None, 88)            90200     \n",
      "=================================================================\n",
      "Total params: 4,051,032\n",
      "Trainable params: 4,051,032\n",
      "Non-trainable params: 0\n",
      "_________________________________________________________________\n"
     ]
    }
   ],
   "source": [
    "model.summary()"
   ]
  },
  {
   "cell_type": "markdown",
   "metadata": {
    "id": "uwv0gEkURfx1"
   },
   "source": [
    "To get actual predictions from the model we need to sample from the output distribution, to get actual character indices. This distribution is defined by the logits over the character vocabulary.\n",
    "\n",
    "Note: It is important to _sample_ from this distribution as taking the _argmax_ of the distribution can easily get the model stuck in a loop.\n",
    "\n",
    "Try it for the first example in the batch:"
   ]
  },
  {
   "cell_type": "code",
   "execution_count": 40,
   "metadata": {
    "id": "4V4MfFg0RQJg"
   },
   "outputs": [],
   "source": [
    "sampled_indices = tf.random.categorical(example_batch_predictions[0], num_samples=1)\n",
    "sampled_indices = tf.squeeze(sampled_indices,axis=-1).numpy()"
   ]
  },
  {
   "cell_type": "markdown",
   "metadata": {
    "id": "QM1Vbxs_URw5"
   },
   "source": [
    "This gives us, at each timestep, a prediction of the next character index:"
   ]
  },
  {
   "cell_type": "code",
   "execution_count": 41,
   "metadata": {
    "id": "YqFMUQc_UFgM"
   },
   "outputs": [
    {
     "data": {
      "text/plain": [
       "array([79,  3, 83, 83, 32, 10, 14, 36, 70, 67, 41, 15, 33,  9, 29, 11, 65,\n",
       "       26, 12, 65, 76, 42,  2, 35, 69, 32, 42, 15, 75, 19, 65, 26, 87, 37,\n",
       "       38, 84, 82, 62,  6, 13, 56, 69, 48, 29, 71, 70, 44,  5, 76, 69, 87,\n",
       "       55,  5, 11, 78, 33, 51, 26, 10, 36, 73, 68, 13, 37,  0, 70, 25, 29,\n",
       "       16,  7, 82, 84, 76, 78, 77,  2,  9, 80, 50, 45,  6, 76, 34, 58, 66,\n",
       "       38, 76, 27, 18, 19, 42, 49, 78, 56, 70, 36, 26, 60, 66, 27])"
      ]
     },
     "execution_count": 41,
     "metadata": {},
     "output_type": "execute_result"
    }
   ],
   "source": [
    "sampled_indices"
   ]
  },
  {
   "cell_type": "markdown",
   "metadata": {
    "id": "LfLtsP3mUhCG"
   },
   "source": [
    "Decode these to see the text predicted by this untrained model:"
   ]
  },
  {
   "cell_type": "code",
   "execution_count": 42,
   "metadata": {
    "id": "xWcFwPwLSo05"
   },
   "outputs": [
    {
     "name": "stdout",
     "output_type": "stream",
     "text": [
      "Input: \n",
      " \" of evil Tara like al Baghdadi's thank you but you heard the president we are dead last we must do b\"\n",
      "\n",
      "Next Char Predictions: \n",
      " 'x$ööF,0JolO1G+C-j?.juP\"InFP1t5j?♪KL—çg\\'/anVCpoR&un♪_&-wGY?,Jrm/K\\no>C2(ç—uwv\"+yXS\\'uHckLuA45PWwaoJ?ekA'\n"
     ]
    }
   ],
   "source": [
    "print(\"Input: \\n\", repr(\"\".join(idx2char[input_example_batch[0]])))\n",
    "print()\n",
    "print(\"Next Char Predictions: \\n\", repr(\"\".join(idx2char[sampled_indices ])))"
   ]
  },
  {
   "cell_type": "markdown",
   "metadata": {
    "id": "LJL0Q0YPY6Ee"
   },
   "source": [
    "## Train the model"
   ]
  },
  {
   "cell_type": "markdown",
   "metadata": {
    "id": "YCbHQHiaa4Ic"
   },
   "source": [
    "At this point the problem can be treated as a standard classification problem. Given the previous RNN state, and the input this time step, predict the class of the next character."
   ]
  },
  {
   "cell_type": "markdown",
   "metadata": {
    "id": "trpqTWyvk0nr"
   },
   "source": [
    "### Attach an optimizer, and a loss function"
   ]
  },
  {
   "cell_type": "markdown",
   "metadata": {
    "id": "UAjbjY03eiQ4"
   },
   "source": [
    "The standard `tf.keras.losses.sparse_categorical_crossentropy` loss function works in this case because it is applied across the last dimension of the predictions.\n",
    "\n",
    "Because our model returns logits, we need to set the `from_logits` flag.\n"
   ]
  },
  {
   "cell_type": "code",
   "execution_count": 43,
   "metadata": {
    "id": "4HrXTACTdzY-"
   },
   "outputs": [
    {
     "name": "stdout",
     "output_type": "stream",
     "text": [
      "Prediction shape:  (64, 100, 88)  # (batch_size, sequence_length, vocab_size)\n",
      "scalar_loss:       4.4768476\n"
     ]
    }
   ],
   "source": [
    "def loss(labels, logits):\n",
    "  return tf.keras.losses.sparse_categorical_crossentropy(labels, logits, from_logits=True)\n",
    "\n",
    "example_batch_loss  = loss(target_example_batch, example_batch_predictions)\n",
    "print(\"Prediction shape: \", example_batch_predictions.shape, \" # (batch_size, sequence_length, vocab_size)\")\n",
    "print(\"scalar_loss:      \", example_batch_loss.numpy().mean())"
   ]
  },
  {
   "cell_type": "markdown",
   "metadata": {
    "id": "jeOXriLcymww"
   },
   "source": [
    "Configure the training procedure using the `tf.keras.Model.compile` method. We'll use `tf.keras.optimizers.Adam` with default arguments and the loss function."
   ]
  },
  {
   "cell_type": "code",
   "execution_count": 44,
   "metadata": {
    "id": "DDl1_Een6rL0"
   },
   "outputs": [],
   "source": [
    "model.compile(optimizer='adam', loss=loss)"
   ]
  },
  {
   "cell_type": "markdown",
   "metadata": {
    "id": "ieSJdchZggUj"
   },
   "source": [
    "### Configure checkpoints"
   ]
  },
  {
   "cell_type": "markdown",
   "metadata": {
    "id": "C6XBUUavgF56"
   },
   "source": [
    "Use a `tf.keras.callbacks.ModelCheckpoint` to ensure that checkpoints are saved during training:"
   ]
  },
  {
   "cell_type": "code",
   "execution_count": 45,
   "metadata": {
    "id": "W6fWTriUZP-n"
   },
   "outputs": [],
   "source": [
    "# Directory where the checkpoints will be saved\n",
    "checkpoint_dir = '../training_checkpoints'\n",
    "# Name of the checkpoint files\n",
    "checkpoint_prefix = os.path.join(checkpoint_dir, \"ckpt_{epoch}\")\n",
    "\n",
    "checkpoint_callback=tf.keras.callbacks.ModelCheckpoint(\n",
    "    filepath=checkpoint_prefix,\n",
    "    save_weights_only=True)"
   ]
  },
  {
   "cell_type": "markdown",
   "metadata": {
    "id": "3Ky3F_BhgkTW"
   },
   "source": [
    "### Execute the training"
   ]
  },
  {
   "cell_type": "markdown",
   "metadata": {
    "id": "IxdOA-rgyGvs"
   },
   "source": [
    "To keep training time reasonable, use 10 epochs to train the model. In Colab, set the runtime to GPU for faster training."
   ]
  },
  {
   "cell_type": "code",
   "execution_count": 46,
   "metadata": {
    "id": "7yGBE2zxMMHs"
   },
   "outputs": [],
   "source": [
    "EPOCHS=10"
   ]
  },
  {
   "cell_type": "code",
   "execution_count": 47,
   "metadata": {
    "id": "UK-hmKjYVoll"
   },
   "outputs": [
    {
     "name": "stdout",
     "output_type": "stream",
     "text": [
      "Epoch 1/10\n",
      "593/593 [==============================] - 26s 44ms/step - loss: 1.8909\n",
      "Epoch 2/10\n",
      "593/593 [==============================] - 26s 44ms/step - loss: 1.2408\n",
      "Epoch 3/10\n",
      "593/593 [==============================] - 26s 44ms/step - loss: 1.1233\n",
      "Epoch 4/10\n",
      "593/593 [==============================] - 26s 45ms/step - loss: 1.0643\n",
      "Epoch 5/10\n",
      "593/593 [==============================] - 26s 44ms/step - loss: 1.0242\n",
      "Epoch 6/10\n",
      "593/593 [==============================] - 26s 44ms/step - loss: 0.9931\n",
      "Epoch 7/10\n",
      "593/593 [==============================] - 26s 45ms/step - loss: 0.9674\n",
      "Epoch 8/10\n",
      "593/593 [==============================] - 26s 44ms/step - loss: 0.9463\n",
      "Epoch 9/10\n",
      "593/593 [==============================] - 26s 44ms/step - loss: 0.9281\n",
      "Epoch 10/10\n",
      "593/593 [==============================] - 26s 44ms/step - loss: 0.9124\n"
     ]
    }
   ],
   "source": [
    "history = model.fit(dataset, epochs=EPOCHS, callbacks=[checkpoint_callback])"
   ]
  },
  {
   "cell_type": "markdown",
   "metadata": {
    "id": "kKkD5M6eoSiN"
   },
   "source": [
    "## Generate text"
   ]
  },
  {
   "cell_type": "markdown",
   "metadata": {
    "id": "JIPcXllKjkdr"
   },
   "source": [
    "### Restore the latest checkpoint"
   ]
  },
  {
   "cell_type": "markdown",
   "metadata": {
    "id": "LyeYRiuVjodY"
   },
   "source": [
    "To keep this prediction step simple, use a batch size of 1.\n",
    "\n",
    "Because of the way the RNN state is passed from timestep to timestep, the model only accepts a fixed batch size once built.\n",
    "\n",
    "To run the model with a different `batch_size`, we need to rebuild the model and restore the weights from the checkpoint.\n"
   ]
  },
  {
   "cell_type": "code",
   "execution_count": 48,
   "metadata": {
    "id": "zk2WJ2-XjkGz"
   },
   "outputs": [
    {
     "data": {
      "text/plain": [
       "'../training_checkpoints/ckpt_10'"
      ]
     },
     "execution_count": 48,
     "metadata": {},
     "output_type": "execute_result"
    }
   ],
   "source": [
    "tf.train.latest_checkpoint(checkpoint_dir)"
   ]
  },
  {
   "cell_type": "code",
   "execution_count": 49,
   "metadata": {
    "id": "LycQ-ot_jjyu"
   },
   "outputs": [],
   "source": [
    "model = build_model(vocab_size, embedding_dim, rnn_units, batch_size=1)\n",
    "\n",
    "model.load_weights(tf.train.latest_checkpoint(checkpoint_dir))\n",
    "\n",
    "model.build(tf.TensorShape([1, None]))"
   ]
  },
  {
   "cell_type": "code",
   "execution_count": 50,
   "metadata": {
    "id": "71xa6jnYVrAN"
   },
   "outputs": [
    {
     "name": "stdout",
     "output_type": "stream",
     "text": [
      "Model: \"sequential_4\"\n",
      "_________________________________________________________________\n",
      "Layer (type)                 Output Shape              Param #   \n",
      "=================================================================\n",
      "embedding_4 (Embedding)      (1, None, 256)            22528     \n",
      "_________________________________________________________________\n",
      "gru_4 (GRU)                  (1, None, 1024)           3938304   \n",
      "_________________________________________________________________\n",
      "dense_4 (Dense)              (1, None, 88)             90200     \n",
      "=================================================================\n",
      "Total params: 4,051,032\n",
      "Trainable params: 4,051,032\n",
      "Non-trainable params: 0\n",
      "_________________________________________________________________\n"
     ]
    }
   ],
   "source": [
    "model.summary()"
   ]
  },
  {
   "cell_type": "markdown",
   "metadata": {
    "id": "DjGz1tDkzf-u"
   },
   "source": [
    "### The prediction loop\n",
    "\n",
    "The following code block generates the text:\n",
    "\n",
    "* It Starts by choosing a start string, initializing the RNN state and setting the number of characters to generate.\n",
    "\n",
    "* Get the prediction distribution of the next character using the start string and the RNN state.\n",
    "\n",
    "* Then, use a categorical distribution to calculate the index of the predicted character. Use this predicted character as our next input to the model.\n",
    "\n",
    "* The RNN state returned by the model is fed back into the model so that it now has more context, instead than only one character. After predicting the next character, the modified RNN states are again fed back into the model, which is how it learns as it gets more context from the previously predicted characters.\n",
    "\n",
    "\n",
    "![To generate text the model's output is fed back to the input](images/text_generation_sampling.png)\n",
    "\n",
    "Looking at the generated text, you'll see the model knows when to capitalize, make paragraphs and imitates a Shakespeare-like writing vocabulary. With the small number of training epochs, it has not yet learned to form coherent sentences."
   ]
  },
  {
   "cell_type": "code",
   "execution_count": 51,
   "metadata": {
    "id": "WvuwZBX5Ogfd"
   },
   "outputs": [],
   "source": [
    "def generate_text(model, start_string):\n",
    "  # Evaluation step (generating text using the learned model)\n",
    "\n",
    "  # Number of characters to generate\n",
    "  num_generate = 1000\n",
    "\n",
    "  # Converting our start string to numbers (vectorizing)\n",
    "  input_eval = [char2idx[s] for s in start_string]\n",
    "  input_eval = tf.expand_dims(input_eval, 0)\n",
    "\n",
    "  # Empty string to store our results\n",
    "  text_generated = []\n",
    "\n",
    "  # Low temperatures results in more predictable text.\n",
    "  # Higher temperatures results in more surprising text.\n",
    "  # Experiment to find the best setting.\n",
    "  temperature = 1.0\n",
    "\n",
    "  # Here batch size == 1\n",
    "  model.reset_states()\n",
    "  for i in range(num_generate):\n",
    "    predictions = model(input_eval)\n",
    "    # remove the batch dimension\n",
    "    predictions = tf.squeeze(predictions, 0)\n",
    "\n",
    "    # using a categorical distribution to predict the character returned by the model\n",
    "    predictions = predictions / temperature\n",
    "    predicted_id = tf.random.categorical(predictions, num_samples=1)[-1,0].numpy()\n",
    "\n",
    "    # We pass the predicted character as the next input to the model\n",
    "    # along with the previous hidden state\n",
    "    input_eval = tf.expand_dims([predicted_id], 0)\n",
    "\n",
    "    text_generated.append(idx2char[predicted_id])\n",
    "\n",
    "  return (start_string + ''.join(text_generated))"
   ]
  },
  {
   "cell_type": "code",
   "execution_count": 59,
   "metadata": {
    "id": "ktovv0RFhrkn"
   },
   "outputs": [
    {
     "name": "stdout",
     "output_type": "stream",
     "text": [
      "we have anything else to do with social security trade the space force best office that we're firmp in the last 40 years ago of every city and out here in all flag on the shoulders of American policies have picked about this guy he comes november isk you that's what you can stock the country has never seen and headlines to vote for health their city they were going to be a. Williamerican ancestors saying so much everybody as you know the sir1 i'm not doing what a- the mail is picence of them also it's a trying to come everybody we had law enforcement so get off sypot they're record is building a woman who has been fantastic every day projes she [Applause] and you know when it comes in aders when i took the othey allowed to talk so us it's not that one so many ballots is that buildings all the time [ unlEss with north carolina knows the law enforcements all of them you're not allowed to go on for one in ite nights matter of minnesota in want to get it i called him out hey good eight one th\n"
     ]
    }
   ],
   "source": [
    "print(generate_text(model, start_string=u\"we \"))"
   ]
  },
  {
   "cell_type": "markdown",
   "metadata": {
    "id": "AM2Uma_-yVIq"
   },
   "source": [
    "The easiest thing you can do to improve the results it to train it for longer (try `EPOCHS=30`).\n",
    "\n",
    "You can also experiment with a different start string, or try adding another RNN layer to improve the model's accuracy, or adjusting the temperature parameter to generate more or less random predictions."
   ]
  },
  {
   "cell_type": "code",
   "execution_count": null,
   "metadata": {},
   "outputs": [],
   "source": [
    "# (Kevin note - stopped here)"
   ]
  },
  {
   "cell_type": "code",
   "execution_count": null,
   "metadata": {},
   "outputs": [],
   "source": []
  },
  {
   "cell_type": "markdown",
   "metadata": {
    "id": "Y4QwTjAM6A2O"
   },
   "source": [
    "## Advanced: Customized Training\n",
    "\n",
    "The above training procedure is simple, but does not give you much control.\n",
    "\n",
    "So now that you've seen how to run the model manually let's unpack the training loop, and implement it ourselves. This gives a starting point if, for example, to implement _curriculum learning_ to help stabilize the model's open-loop output.\n",
    "\n",
    "We will use `tf.GradientTape` to track the gradients. You can learn more about this approach by reading the [eager execution guide](https://www.tensorflow.org/guide/eager).\n",
    "\n",
    "The procedure works as follows:\n",
    "\n",
    "* First, reset the RNN state. We do this by calling the `tf.keras.Model.reset_states` method.\n",
    "\n",
    "* Next, iterate over the dataset (batch by batch) and calculate the *predictions* associated with each.\n",
    "\n",
    "* Open a `tf.GradientTape`, and calculate the predictions and loss in that context.\n",
    "\n",
    "* Calculate the gradients of the loss with respect to the model variables using the `tf.GradientTape.grads` method.\n",
    "\n",
    "* Finally, take a step downwards by using the optimizer's `tf.train.Optimizer.apply_gradients` method.\n"
   ]
  },
  {
   "cell_type": "code",
   "execution_count": 35,
   "metadata": {
    "id": "_XAm7eCoKULT"
   },
   "outputs": [
    {
     "name": "stdout",
     "output_type": "stream",
     "text": [
      "WARNING:tensorflow:Unresolved object in checkpoint: (root).optimizer\n",
      "WARNING:tensorflow:Unresolved object in checkpoint: (root).optimizer.iter\n",
      "WARNING:tensorflow:Unresolved object in checkpoint: (root).optimizer.beta_1\n",
      "WARNING:tensorflow:Unresolved object in checkpoint: (root).optimizer.beta_2\n",
      "WARNING:tensorflow:Unresolved object in checkpoint: (root).optimizer.decay\n",
      "WARNING:tensorflow:Unresolved object in checkpoint: (root).optimizer.learning_rate\n",
      "WARNING:tensorflow:Unresolved object in checkpoint: (root).optimizer's state 'm' for (root).layer_with_weights-0.embeddings\n",
      "WARNING:tensorflow:Unresolved object in checkpoint: (root).optimizer's state 'm' for (root).layer_with_weights-2.kernel\n",
      "WARNING:tensorflow:Unresolved object in checkpoint: (root).optimizer's state 'm' for (root).layer_with_weights-2.bias\n",
      "WARNING:tensorflow:Unresolved object in checkpoint: (root).optimizer's state 'm' for (root).layer_with_weights-1.cell.kernel\n",
      "WARNING:tensorflow:Unresolved object in checkpoint: (root).optimizer's state 'm' for (root).layer_with_weights-1.cell.recurrent_kernel\n",
      "WARNING:tensorflow:Unresolved object in checkpoint: (root).optimizer's state 'm' for (root).layer_with_weights-1.cell.bias\n",
      "WARNING:tensorflow:Unresolved object in checkpoint: (root).optimizer's state 'v' for (root).layer_with_weights-0.embeddings\n",
      "WARNING:tensorflow:Unresolved object in checkpoint: (root).optimizer's state 'v' for (root).layer_with_weights-2.kernel\n",
      "WARNING:tensorflow:Unresolved object in checkpoint: (root).optimizer's state 'v' for (root).layer_with_weights-2.bias\n",
      "WARNING:tensorflow:Unresolved object in checkpoint: (root).optimizer's state 'v' for (root).layer_with_weights-1.cell.kernel\n",
      "WARNING:tensorflow:Unresolved object in checkpoint: (root).optimizer's state 'v' for (root).layer_with_weights-1.cell.recurrent_kernel\n",
      "WARNING:tensorflow:Unresolved object in checkpoint: (root).optimizer's state 'v' for (root).layer_with_weights-1.cell.bias\n",
      "WARNING:tensorflow:A checkpoint was restored (e.g. tf.train.Checkpoint.restore or tf.keras.Model.load_weights) but not all checkpointed values were used. See above for specific issues. Use expect_partial() on the load status object, e.g. tf.train.Checkpoint.restore(...).expect_partial(), to silence these warnings, or use assert_consumed() to make the check explicit. See https://www.tensorflow.org/guide/checkpoint#loading_mechanics for details.\n"
     ]
    }
   ],
   "source": [
    "model = build_model(\n",
    "    vocab_size = len(vocab),\n",
    "    embedding_dim=embedding_dim,\n",
    "    rnn_units=rnn_units,\n",
    "    batch_size=BATCH_SIZE)"
   ]
  },
  {
   "cell_type": "code",
   "execution_count": 36,
   "metadata": {
    "id": "qUKhnZtMVpoJ"
   },
   "outputs": [],
   "source": [
    "optimizer = tf.keras.optimizers.Adam()"
   ]
  },
  {
   "cell_type": "code",
   "execution_count": 37,
   "metadata": {
    "id": "b4kH1o0leVIp"
   },
   "outputs": [],
   "source": [
    "@tf.function\n",
    "def train_step(inp, target):\n",
    "  with tf.GradientTape() as tape:\n",
    "    predictions = model(inp)\n",
    "    loss = tf.reduce_mean(\n",
    "        tf.keras.losses.sparse_categorical_crossentropy(\n",
    "            target, predictions, from_logits=True))\n",
    "  grads = tape.gradient(loss, model.trainable_variables)\n",
    "  optimizer.apply_gradients(zip(grads, model.trainable_variables))\n",
    "\n",
    "  return loss"
   ]
  },
  {
   "cell_type": "code",
   "execution_count": 38,
   "metadata": {
    "id": "d4tSNwymzf-q"
   },
   "outputs": [
    {
     "name": "stdout",
     "output_type": "stream",
     "text": [
      "Epoch 1 Batch 0 Loss 4.172773838043213\n",
      "Epoch 1 Batch 100 Loss 2.319643020629883\n",
      "Epoch 1 Loss 2.1722\n",
      "Time taken for 1 epoch 7.495899438858032 sec\n",
      "\n",
      "Epoch 2 Batch 0 Loss 2.160285711288452\n",
      "Epoch 2 Batch 100 Loss 1.9182690382003784\n",
      "Epoch 2 Loss 1.7782\n",
      "Time taken for 1 epoch 6.883932828903198 sec\n",
      "\n",
      "Epoch 3 Batch 0 Loss 1.7671966552734375\n",
      "Epoch 3 Batch 100 Loss 1.6926932334899902\n",
      "Epoch 3 Loss 1.6017\n",
      "Time taken for 1 epoch 6.93152117729187 sec\n",
      "\n",
      "Epoch 4 Batch 0 Loss 1.5692694187164307\n",
      "Epoch 4 Batch 100 Loss 1.5481702089309692\n",
      "Epoch 4 Loss 1.4760\n",
      "Time taken for 1 epoch 7.1686460971832275 sec\n",
      "\n",
      "Epoch 5 Batch 0 Loss 1.451960802078247\n",
      "Epoch 5 Batch 100 Loss 1.4631893634796143\n",
      "Epoch 5 Loss 1.4470\n",
      "Time taken for 1 epoch 7.46896505355835 sec\n",
      "\n",
      "Epoch 6 Batch 0 Loss 1.387464165687561\n",
      "Epoch 6 Batch 100 Loss 1.4172255992889404\n",
      "Epoch 6 Loss 1.3579\n",
      "Time taken for 1 epoch 7.1809070110321045 sec\n",
      "\n",
      "Epoch 7 Batch 0 Loss 1.344409465789795\n",
      "Epoch 7 Batch 100 Loss 1.3334676027297974\n",
      "Epoch 7 Loss 1.3486\n",
      "Time taken for 1 epoch 7.0733323097229 sec\n",
      "\n",
      "Epoch 8 Batch 0 Loss 1.2594448328018188\n",
      "Epoch 8 Batch 100 Loss 1.3214236497879028\n",
      "Epoch 8 Loss 1.3703\n",
      "Time taken for 1 epoch 7.03714656829834 sec\n",
      "\n",
      "Epoch 9 Batch 0 Loss 1.2372546195983887\n",
      "Epoch 9 Batch 100 Loss 1.2616389989852905\n",
      "Epoch 9 Loss 1.3040\n",
      "Time taken for 1 epoch 7.0020527839660645 sec\n",
      "\n",
      "Epoch 10 Batch 0 Loss 1.1974153518676758\n",
      "Epoch 10 Batch 100 Loss 1.2720203399658203\n",
      "Epoch 10 Loss 1.2494\n",
      "Time taken for 1 epoch 7.029581069946289 sec\n",
      "\n"
     ]
    }
   ],
   "source": [
    "# Training step\n",
    "EPOCHS = 10\n",
    "\n",
    "for epoch in range(EPOCHS):\n",
    "  start = time.time()\n",
    "\n",
    "  # resetting the hidden state at the start of every epoch\n",
    "  model.reset_states()\n",
    "\n",
    "  for (batch_n, (inp, target)) in enumerate(dataset):\n",
    "    loss = train_step(inp, target)\n",
    "\n",
    "    if batch_n % 100 == 0:\n",
    "      template = 'Epoch {} Batch {} Loss {}'\n",
    "      print(template.format(epoch+1, batch_n, loss))\n",
    "\n",
    "  # saving (checkpoint) the model every 5 epochs\n",
    "  if (epoch + 1) % 5 == 0:\n",
    "    model.save_weights(checkpoint_prefix.format(epoch=epoch))\n",
    "\n",
    "  print ('Epoch {} Loss {:.4f}'.format(epoch+1, loss))\n",
    "  print ('Time taken for 1 epoch {} sec\\n'.format(time.time() - start))\n",
    "\n",
    "model.save_weights(checkpoint_prefix.format(epoch=epoch))"
   ]
  },
  {
   "cell_type": "code",
   "execution_count": null,
   "metadata": {},
   "outputs": [],
   "source": []
  }
 ],
 "metadata": {
  "accelerator": "GPU",
  "colab": {
   "collapsed_sections": [],
   "name": "text_generation.ipynb",
   "toc_visible": true
  },
  "kernelspec": {
   "display_name": "Python 3",
   "language": "python",
   "name": "python3"
  },
  "language_info": {
   "codemirror_mode": {
    "name": "ipython",
    "version": 3
   },
   "file_extension": ".py",
   "mimetype": "text/x-python",
   "name": "python",
   "nbconvert_exporter": "python",
   "pygments_lexer": "ipython3",
   "version": "3.8.3"
  }
 },
 "nbformat": 4,
 "nbformat_minor": 1
}
