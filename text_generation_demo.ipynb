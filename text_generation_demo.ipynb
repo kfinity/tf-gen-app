{
 "cells": [
  {
   "cell_type": "markdown",
   "metadata": {
    "id": "ovpZyIhNIgoq"
   },
   "source": [
    "# Text generation with an RNN\n",
    "\n",
    "### Kevin Finity, kf2tg\n",
    "\n",
    "Thanks to these authors that I borrowed code from!\n",
    "\n",
    "* https://cloud.google.com/ai-platform/docs/getting-started-keras\n",
    "* https://www.kaggle.com/shivamb/beginners-guide-to-text-generation-using-lstms\n",
    "* https://cloud.google.com/ai-platform/prediction/docs/online-predict#python\n",
    "* https://towardsdatascience.com/10-minutes-to-deploying-a-deep-learning-model-on-google-cloud-platform-13fa56a266ee\n",
    "\n",
    "This was run locally, but would probably also work in Google Colab."
   ]
  },
  {
   "cell_type": "markdown",
   "metadata": {
    "id": "srXC6pLGLwS6"
   },
   "source": [
    "## Setup"
   ]
  },
  {
   "cell_type": "markdown",
   "metadata": {
    "id": "WGyKZj3bzf9p"
   },
   "source": [
    "### Import TensorFlow and other libraries"
   ]
  },
  {
   "cell_type": "code",
   "execution_count": 34,
   "metadata": {
    "id": "yG_n40gFzf9s"
   },
   "outputs": [],
   "source": [
    "import tensorflow as tf\n",
    "from tensorflow.keras.preprocessing.text import Tokenizer\n",
    "from tensorflow.keras.preprocessing.sequence import pad_sequences\n",
    "\n",
    "import pandas as pd\n",
    "import numpy as np\n",
    "import os\n",
    "import time\n",
    "from nltk import ngrams\n",
    "\n",
    "checkpoint_dir = 'training-checkpoints/'"
   ]
  },
  {
   "cell_type": "code",
   "execution_count": 2,
   "metadata": {},
   "outputs": [
    {
     "name": "stdout",
     "output_type": "stream",
     "text": [
      "1 Physical GPUs, 1 Logical GPUs\n"
     ]
    }
   ],
   "source": [
    "gpus = tf.config.experimental.list_physical_devices('GPU')\n",
    "if gpus:\n",
    "  try:\n",
    "    # Currently, memory growth needs to be the same across GPUs\n",
    "    for gpu in gpus:\n",
    "      tf.config.experimental.set_memory_growth(gpu, True)\n",
    "    logical_gpus = tf.config.experimental.list_logical_devices('GPU')\n",
    "    print(len(gpus), \"Physical GPUs,\", len(logical_gpus), \"Logical GPUs\")\n",
    "  except RuntimeError as e:\n",
    "    # Memory growth must be set before GPUs have been initialized\n",
    "    print(e)"
   ]
  },
  {
   "cell_type": "markdown",
   "metadata": {
    "id": "EHDoRoc5PKWz"
   },
   "source": [
    "### Download the dataset\n",
    "\n",
    "Change the following line to run this code on your own data."
   ]
  },
  {
   "cell_type": "code",
   "execution_count": 4,
   "metadata": {
    "id": "pD_55cOxLkAb"
   },
   "outputs": [],
   "source": [
    "#path_to_file = tf.keras.utils.get_file('speeches.json', 'https://github.com/kfinity/capstone-speeches/raw/master/speeches.json')"
   ]
  },
  {
   "cell_type": "markdown",
   "metadata": {
    "id": "UHjdCjDuSvX_"
   },
   "source": [
    "### Read the data\n",
    "\n",
    "First, look in the text:"
   ]
  },
  {
   "cell_type": "code",
   "execution_count": 8,
   "metadata": {},
   "outputs": [],
   "source": [
    "names = pd.read_csv('names.csv', header=None)\n",
    "names.columns = ['name','gender','count','year']"
   ]
  },
  {
   "cell_type": "code",
   "execution_count": 10,
   "metadata": {
    "id": "aavnuByVymwK"
   },
   "outputs": [
    {
     "name": "stdout",
     "output_type": "stream",
     "text": [
      "Number of names: 97307\n"
     ]
    }
   ],
   "source": [
    "unames = names['name'].unique()\n",
    "# length of text is the number of characters in it\n",
    "print ('Number of names: {}'.format(len(unames)))"
   ]
  },
  {
   "cell_type": "code",
   "execution_count": 11,
   "metadata": {
    "id": "Duhg9NrUymwO"
   },
   "outputs": [
    {
     "name": "stdout",
     "output_type": "stream",
     "text": [
      "['Emma' 'Olivia' 'Ava' 'Isabella' 'Sophia']\n"
     ]
    }
   ],
   "source": [
    "# Take a look at the first 5 names\n",
    "print(unames[:5])"
   ]
  },
  {
   "cell_type": "code",
   "execution_count": 17,
   "metadata": {
    "id": "IlCgQBRVymwR"
   },
   "outputs": [
    {
     "name": "stdout",
     "output_type": "stream",
     "text": [
      "52 unique characters\n"
     ]
    }
   ],
   "source": [
    "# The unique characters in the file\n",
    "vocab = sorted(set(''.join(unames)))\n",
    "print ('{} unique characters'.format(len(vocab)))"
   ]
  },
  {
   "cell_type": "markdown",
   "metadata": {
    "id": "rNnrKn_lL-IJ"
   },
   "source": [
    "## Process the text"
   ]
  },
  {
   "cell_type": "markdown",
   "metadata": {
    "id": "LFjSVAlWzf-N"
   },
   "source": [
    "### Vectorize the text\n",
    "\n",
    "Before training, we need to map strings to a numerical representation. Create two lookup tables: one mapping characters to numbers, and another for numbers to characters."
   ]
  },
  {
   "cell_type": "code",
   "execution_count": 89,
   "metadata": {},
   "outputs": [
    {
     "data": {
      "text/plain": [
       "[[3, 14],\n",
       " [3, 14, 14],\n",
       " [3, 14, 14, 2],\n",
       " [11, 7],\n",
       " [11, 7, 5],\n",
       " [11, 7, 5, 20],\n",
       " [11, 7, 5, 20, 5],\n",
       " [11, 7, 5, 20, 5, 2],\n",
       " [2, 20],\n",
       " [2, 20, 2]]"
      ]
     },
     "execution_count": 89,
     "metadata": {},
     "output_type": "execute_result"
    }
   ],
   "source": [
    "tk = Tokenizer(num_words=None, char_level=True, oov_token='UNK')\n",
    "\n",
    "def get_sequence_of_tokens(corpus):\n",
    "    ## tokenization\n",
    "    tk.fit_on_texts(corpus)\n",
    "    total_words = len(tk.word_index) + 1\n",
    "    \n",
    "    ## convert data to sequence of tokens \n",
    "    input_sequences = []\n",
    "    for line in corpus:\n",
    "        token_list = tk.texts_to_sequences([line])[0]\n",
    "        for i in range(1, len(token_list)):\n",
    "            n_gram_sequence = token_list[:i+1]\n",
    "            input_sequences.append(n_gram_sequence)\n",
    "    return input_sequences, total_words\n",
    "\n",
    "vocab = tk.word_index\n",
    "inp_sequences, total_words = get_sequence_of_tokens(unames)\n",
    "inp_sequences[:10]\n"
   ]
  },
  {
   "cell_type": "code",
   "execution_count": 247,
   "metadata": {},
   "outputs": [],
   "source": [
    "# save tokenizer settings for later\n",
    "import io\n",
    "with io.open('tokenizer.json', 'w', encoding='utf-8') as f:\n",
    "    f.write(json.dumps(tk.to_json(), ensure_ascii=False))"
   ]
  },
  {
   "cell_type": "code",
   "execution_count": 91,
   "metadata": {},
   "outputs": [
    {
     "name": "stdout",
     "output_type": "stream",
     "text": [
      "0\n",
      "Emma\n",
      "[[3, 14], [3, 14, 14], [3, 14, 14, 2]]\n"
     ]
    }
   ],
   "source": [
    "print(len(vocab))\n",
    "print(unames[0])\n",
    "print(inp_sequences[0:3])"
   ]
  },
  {
   "cell_type": "code",
   "execution_count": 93,
   "metadata": {},
   "outputs": [],
   "source": [
    "# have to pad sequences to the same length\n",
    "\n",
    "def generate_padded_sequences(input_sequences):\n",
    "    max_sequence_len = max([len(x) for x in input_sequences])\n",
    "    input_sequences = np.array(pad_sequences(input_sequences, maxlen=max_sequence_len, padding='pre'))\n",
    "    \n",
    "    predictors, label = input_sequences[:,:-1],input_sequences[:,-1]\n",
    "    label = tf.keras.utils.to_categorical(label, num_classes=total_words)\n",
    "    return predictors, label, max_sequence_len\n",
    "\n",
    "predictors, label, max_sequence_len = generate_padded_sequences(inp_sequences)\n",
    "\n"
   ]
  },
  {
   "cell_type": "code",
   "execution_count": 100,
   "metadata": {},
   "outputs": [
    {
     "data": {
      "text/plain": [
       "(538410, 14)"
      ]
     },
     "execution_count": 100,
     "metadata": {},
     "output_type": "execute_result"
    }
   ],
   "source": [
    "predictors.shape"
   ]
  },
  {
   "cell_type": "code",
   "execution_count": 211,
   "metadata": {},
   "outputs": [
    {
     "name": "stdout",
     "output_type": "stream",
     "text": [
      "Model: \"sequential_4\"\n",
      "_________________________________________________________________\n",
      "Layer (type)                 Output Shape              Param #   \n",
      "=================================================================\n",
      "embedding_3 (Embedding)      (None, 14, 100)           2800      \n",
      "_________________________________________________________________\n",
      "lstm_3 (LSTM)                (None, 200)               240800    \n",
      "_________________________________________________________________\n",
      "dense_3 (Dense)              (None, 28)                5628      \n",
      "=================================================================\n",
      "Total params: 249,228\n",
      "Trainable params: 249,228\n",
      "Non-trainable params: 0\n",
      "_________________________________________________________________\n"
     ]
    }
   ],
   "source": [
    "def create_model(input_len, total_chars):\n",
    "    \n",
    "    model = tf.keras.models.Sequential()\n",
    "    \n",
    "    # Add Input Embedding Layer\n",
    "    model.add(tf.keras.layers.Embedding(total_chars, 100, input_length=input_len))\n",
    "    \n",
    "    # Add Hidden Layer 1 - LSTM Layer\n",
    "    model.add(tf.keras.layers.LSTM(200))\n",
    "    #model.add(tf.keras.layers.Dropout(0.1))\n",
    "    \n",
    "    # Add Output Layer\n",
    "    model.add(tf.keras.layers.Dense(total_chars, activation='softmax'))\n",
    "\n",
    "    model.compile(loss='categorical_crossentropy', optimizer='adam')\n",
    "    \n",
    "    return model\n",
    "\n",
    "input_len = max_sequence_len - 1\n",
    "model = create_model(input_len, total_words)\n",
    "model.summary()"
   ]
  },
  {
   "cell_type": "code",
   "execution_count": 213,
   "metadata": {},
   "outputs": [
    {
     "name": "stdout",
     "output_type": "stream",
     "text": [
      "Epoch 1/10\n",
      "16826/16826 [==============================] - 52s 3ms/step - loss: 1.7668\n",
      "Epoch 2/10\n",
      "16826/16826 [==============================] - 52s 3ms/step - loss: 1.7605\n",
      "Epoch 3/10\n",
      "16826/16826 [==============================] - 52s 3ms/step - loss: 1.7555\n",
      "Epoch 4/10\n",
      "16826/16826 [==============================] - 52s 3ms/step - loss: 1.7509\n",
      "Epoch 5/10\n",
      "16826/16826 [==============================] - 52s 3ms/step - loss: 1.7469\n",
      "Epoch 6/10\n",
      "16826/16826 [==============================] - 52s 3ms/step - loss: 1.7434\n",
      "Epoch 7/10\n",
      "16826/16826 [==============================] - 52s 3ms/step - loss: 1.7397\n",
      "Epoch 8/10\n",
      "16826/16826 [==============================] - 52s 3ms/step - loss: 1.7372\n",
      "Epoch 9/10\n",
      "16826/16826 [==============================] - 52s 3ms/step - loss: 1.7338\n",
      "Epoch 10/10\n",
      "16826/16826 [==============================] - 52s 3ms/step - loss: 1.7313\n"
     ]
    }
   ],
   "source": [
    "history = model.fit(predictors, label, epochs=10)"
   ]
  },
  {
   "cell_type": "code",
   "execution_count": 214,
   "metadata": {},
   "outputs": [
    {
     "data": {
      "image/png": "[encoded data removed]",
      "text/plain": [
       "<Figure size 432x288 with 1 Axes>"
      ]
     },
     "metadata": {
      "needs_background": "light"
     },
     "output_type": "display_data"
    }
   ],
   "source": [
    "import matplotlib.pyplot as plt\n",
    "def plot_loss(history):\n",
    "    plt.plot(history.history['loss'], label='train')\n",
    "    #plt.plot(history.history['val_loss'], label='validation')\n",
    "    #plt.ylim([0, 50])\n",
    "    plt.xlabel('Epoch')\n",
    "    plt.ylabel('Loss')\n",
    "    plt.legend()\n",
    "    plt.grid(True)\n",
    "\n",
    "plot_loss(history)"
   ]
  },
  {
   "cell_type": "code",
   "execution_count": 204,
   "metadata": {},
   "outputs": [],
   "source": [
    "def generate_text(seed_text, model, randomness=True, temperature=0.25, max_sequence_len=15):\n",
    "    \n",
    "    # Low temperatures results in more predictable text.\n",
    "    # Higher temperatures results in more surprising text.\n",
    "    # Experiment to find the best setting.\n",
    "    temperature = temperature\n",
    "    \n",
    "    inv_map = {v: k for k, v in tk.word_index.items()}\n",
    "    \n",
    "    \n",
    "    # Here batch size == 1\n",
    "    model.reset_states()\n",
    "    predicted_id = 1\n",
    "    while predicted_id != 0: #for i in range(num_generate):\n",
    "        input_eval = tk.texts_to_sequences([seed_text])[0]\n",
    "        input_eval = pad_sequences([input_eval], maxlen=max_sequence_len-1, padding='pre')\n",
    "        predictions = model(input_eval)\n",
    "        # remove the batch dimension\n",
    "        #predictions = tf.squeeze(predictions, 0)\n",
    "\n",
    "        # using a categorical distribution to predict the character returned by the model\n",
    "        if randomness:\n",
    "            predictions = predictions / temperature\n",
    "            predicted_id = tf.random.categorical(predictions, num_samples=1)[-1,0].numpy()\n",
    "        else:\n",
    "            predicted_id = np.argmax(predictions)\n",
    "\n",
    "        # We pass the predicted character as the next input to the model\n",
    "        # along with the previous hidden state\n",
    "        #input_eval = tf.expand_dims([predicted_id], 0)\n",
    "        if predicted_id == 0:\n",
    "            break # end of name\n",
    "        if predicted_id == 1:\n",
    "            break\n",
    "        if len(seed_text) > 14:\n",
    "            break\n",
    "\n",
    "        seed_text += str(inv_map[predicted_id])\n",
    "\n",
    "    return seed_text #(start_string + ''.join(text_generated))\n",
    "    "
   ]
  },
  {
   "cell_type": "raw",
   "metadata": {},
   "source": [
    "    #for _ in range(next_words):\n",
    "        token_list = tk.texts_to_sequences([seed_text])[0]\n",
    "        token_list = pad_sequences([token_list], maxlen=max_sequence_len-1, padding='pre')\n",
    "        predicted = model.predict_classes(token_list, verbose=0)\n",
    "        \n",
    "        output_word = \"\"\n",
    "        for word,index in tk.word_index.items():\n",
    "            if index == predicted:\n",
    "                output_word = word\n",
    "                break\n",
    "        seed_text += \"\"+output_word\n",
    "    return seed_text.title()"
   ]
  },
  {
   "cell_type": "code",
   "execution_count": 209,
   "metadata": {},
   "outputs": [
    {
     "data": {
      "text/plain": [
       "'Maricelseerpura'"
      ]
     },
     "execution_count": 209,
     "metadata": {},
     "output_type": "execute_result"
    }
   ],
   "source": [
    "\n",
    "generate_text('M', model, True, 0.1)"
   ]
  },
  {
   "cell_type": "code",
   "execution_count": 215,
   "metadata": {},
   "outputs": [
    {
     "name": "stdout",
     "output_type": "stream",
     "text": [
      "WARNING:tensorflow:From /home/kfinity/anaconda3/envs/python38/lib/python3.8/site-packages/tensorflow/python/training/tracking/tracking.py:111: Model.state_updates (from tensorflow.python.keras.engine.training) is deprecated and will be removed in a future version.\n",
      "Instructions for updating:\n",
      "This property should not be used in TensorFlow 2.0, as updates are applied automatically.\n",
      "WARNING:tensorflow:From /home/kfinity/anaconda3/envs/python38/lib/python3.8/site-packages/tensorflow/python/training/tracking/tracking.py:111: Layer.updates (from tensorflow.python.keras.engine.base_layer) is deprecated and will be removed in a future version.\n",
      "Instructions for updating:\n",
      "This property should not be used in TensorFlow 2.0, as updates are applied automatically.\n",
      "INFO:tensorflow:Assets written to: namegen/assets\n"
     ]
    }
   ],
   "source": [
    "model.save('namegen')"
   ]
  },
  {
   "cell_type": "code",
   "execution_count": 282,
   "metadata": {},
   "outputs": [
    {
     "data": {
      "text/plain": [
       "['Ann',\n",
       " 'Anna',\n",
       " 'Annal',\n",
       " 'Annali',\n",
       " 'Annalis',\n",
       " 'Annalisa',\n",
       " 'Annalisab',\n",
       " 'Annalisabe',\n",
       " 'Annalisabet',\n",
       " 'Annalisabeth',\n",
       " 'Annalisabetha',\n",
       " 'Annalisabethan',\n",
       " 'Annalisabethann']"
      ]
     },
     "execution_count": 282,
     "metadata": {},
     "output_type": "execute_result"
    }
   ],
   "source": [
    "word2seq = {'UNK': 1,\n",
    "     'a': 2,\n",
    "     'e': 3,\n",
    "     'n': 4,\n",
    "     'i': 5,\n",
    "     'r': 6,\n",
    "     'l': 7,\n",
    "     's': 8,\n",
    "     'h': 9,\n",
    "     'y': 10,\n",
    "     'o': 11,\n",
    "     't': 12,\n",
    "     'd': 13,\n",
    "     'm': 14,\n",
    "     'k': 15,\n",
    "     'c': 16,\n",
    "     'u': 17,\n",
    "     'j': 18,\n",
    "     'b': 19,\n",
    "     'v': 20,\n",
    "     'z': 21,\n",
    "     'g': 22,\n",
    "     'w': 23,\n",
    "     'p': 24,\n",
    "     'f': 25,\n",
    "     'q': 26,\n",
    "     'x': 27}\n",
    "seq2word = {v: k for k, v in word2seq.items()}\n",
    "\n",
    "ml = discovery.build('ml', 'v1')\n",
    "\n",
    "\n",
    "def get_names(names):\n",
    "    temperature = 0.25\n",
    "    max_len = 15\n",
    "    randomness = True\n",
    "    seed_text = names[-1]\n",
    "\n",
    "    # convert to sequence\n",
    "    input_eval = [word2seq[c] for c in seed_text.lower()]\n",
    "    # pad to 14 items\n",
    "    input_eval = [0] * (max_len-1-len(input_eval)) + input_eval\n",
    "    \n",
    "    request_body = { 'instances': [input_eval] }\n",
    "    request = ml.projects().predict(\n",
    "        name='projects/sys6016codeathon3/models/namegen/versions/v1',\n",
    "        body=request_body)\n",
    "\n",
    "    response = request.execute()\n",
    "    if 'error' in response:\n",
    "        # break\n",
    "        print('error: ' + str(response))\n",
    "        return names\n",
    "    \n",
    "    predictions = np.array(response['predictions'][0]['dense_3'])\n",
    "    # remove the batch dimension\n",
    "    #predictions = tf.squeeze(predictions, 0)\n",
    "\n",
    "    # using a categorical distribution to predict the character returned by the model\n",
    "    #if randomness:\n",
    "    #    predictions = predictions / temperature\n",
    "    #    predicted_id = tf.random.categorical(predictions, num_samples=1)[-1,0].numpy()\n",
    "    #else:\n",
    "    predicted_id = np.argmax(predictions)\n",
    "\n",
    "    # We pass the predicted character as the next input to the model\n",
    "    # along with the previous hidden state\n",
    "\n",
    "    if predicted_id > 1 and len(seed_text) < max_len:\n",
    "        seed_text += str(seq2word[predicted_id])\n",
    "        names.append(seed_text)\n",
    "        names = get_names(names)\n",
    "\n",
    "    return names\n",
    "    \n",
    "get_names(['Ann'])"
   ]
  },
  {
   "cell_type": "code",
   "execution_count": 273,
   "metadata": {},
   "outputs": [
    {
     "data": {
      "text/plain": [
       "[0, 0, 0, 0, 0, 0, 9, 3, 7, 7, 11, 11, 11, 11]"
      ]
     },
     "execution_count": 273,
     "metadata": {},
     "output_type": "execute_result"
    }
   ],
   "source": [
    "word2seq = {'UNK': 1,\n",
    "     'a': 2,\n",
    "     'e': 3,\n",
    "     'n': 4,\n",
    "     'i': 5,\n",
    "     'r': 6,\n",
    "     'l': 7,\n",
    "     's': 8,\n",
    "     'h': 9,\n",
    "     'y': 10,\n",
    "     'o': 11,\n",
    "     't': 12,\n",
    "     'd': 13,\n",
    "     'm': 14,\n",
    "     'k': 15,\n",
    "     'c': 16,\n",
    "     'u': 17,\n",
    "     'j': 18,\n",
    "     'b': 19,\n",
    "     'v': 20,\n",
    "     'z': 21,\n",
    "     'g': 22,\n",
    "     'w': 23,\n",
    "     'p': 24,\n",
    "     'f': 25,\n",
    "     'q': 26,\n",
    "     'x': 27}\n",
    "seq2word = {v: k for k, v in word2seq.items()}\n",
    "max_len = 15\n",
    "\n",
    "seq = [word2seq[c] for c in 'helloooo']\n",
    "seq = [0] * (max_len-1-len(seq)) + seq\n",
    "seq"
   ]
  },
  {
   "cell_type": "code",
   "execution_count": 267,
   "metadata": {},
   "outputs": [
    {
     "data": {
      "text/plain": [
       "'hello'"
      ]
     },
     "execution_count": 267,
     "metadata": {},
     "output_type": "execute_result"
    }
   ],
   "source": [
    "str1 = '000hello'\n",
    "str2 = ''\n",
    "for c in str1:\n",
    "    if c in word2seq.keys():\n",
    "        str2 += c\n",
    "str2"
   ]
  },
  {
   "cell_type": "code",
   "execution_count": 284,
   "metadata": {},
   "outputs": [
    {
     "data": {
      "text/plain": [
       "['Hi', 'Hello', 'Yes']"
      ]
     },
     "execution_count": 284,
     "metadata": {},
     "output_type": "execute_result"
    }
   ],
   "source": [
    "[s.capitalize() for s in ['hi','hello','yes']]"
   ]
  },
  {
   "cell_type": "code",
   "execution_count": 244,
   "metadata": {},
   "outputs": [
    {
     "name": "stdout",
     "output_type": "stream",
     "text": [
      "{'predictions': [{'dense_3': [3.1598471061933253e-10, 2.805835841446225e-10, 0.03938860073685646, 0.00758354039862752, 0.18970879912376404, 0.03228096291422844, 0.12639151513576508, 0.17454369366168976, 0.044460222125053406, 0.02167532406747341, 0.023425813764333725, 0.0014150222996249795, 0.018258733674883842, 0.07893252372741699, 0.06286615133285522, 0.019366944208741188, 0.008195511065423489, 0.02831641584634781, 0.005635043140500784, 0.04026518389582634, 0.029881523922085762, 0.025481311604380608, 0.004272173158824444, 0.0016230714973062277, 0.004249899182468653, 0.005117462482303381, 0.003391669364646077, 0.003272879170253873]}]}\n"
     ]
    }
   ],
   "source": [
    "service = discovery.build('ml', 'v1')\n",
    "name = 'projects/sys6016codeathon3/models/namegen'\n",
    "\n",
    "#if version is not None:\n",
    "#    name += '/versions/{}'.format(version)\n",
    "\n",
    "response = service.projects().predict(\n",
    "    name=name,\n",
    "    body={'instances': token_list.tolist()}\n",
    ").execute()\n",
    "\n",
    "if 'error' in response:\n",
    "    raise RuntimeError(response['error'])\n",
    "\n",
    "print(response)"
   ]
  },
  {
   "cell_type": "code",
   "execution_count": 177,
   "metadata": {},
   "outputs": [
    {
     "data": {
      "text/plain": [
       "<tf.Tensor: shape=(1, 1), dtype=int64, numpy=array([[17]])>"
      ]
     },
     "execution_count": 177,
     "metadata": {},
     "output_type": "execute_result"
    }
   ],
   "source": [
    "tf.random.categorical(predicted, num_samples=1)#[-1,0].numpy()"
   ]
  },
  {
   "cell_type": "code",
   "execution_count": 197,
   "metadata": {},
   "outputs": [
    {
     "data": {
      "text/plain": [
       "<AxesSubplot:>"
      ]
     },
     "execution_count": 197,
     "metadata": {},
     "output_type": "execute_result"
    },
    {
     "data": {
      "image/png": "[encoded data removed]",
      "text/plain": [
       "<Figure size 432x288 with 1 Axes>"
      ]
     },
     "metadata": {
      "needs_background": "light"
     },
     "output_type": "display_data"
    }
   ],
   "source": [
    "# What are the most common initial letters for names?\n",
    "names['name'].str[0].hist(bins=26)"
   ]
  },
  {
   "cell_type": "code",
   "execution_count": 198,
   "metadata": {},
   "outputs": [
    {
     "data": {
      "text/plain": [
       "array(['E', 'O', 'A', 'I', 'S', 'M', 'C', 'H', 'V', 'G', 'P', 'R', 'L',\n",
       "       'N', 'Z', 'B', 'K', 'Q', 'W', 'J', 'D', 'T', 'F', 'X', 'Y', 'U'],\n",
       "      dtype=object)"
      ]
     },
     "execution_count": 198,
     "metadata": {},
     "output_type": "execute_result"
    }
   ],
   "source": [
    "names['name'].str[0].unique()"
   ]
  },
  {
   "cell_type": "code",
   "execution_count": null,
   "metadata": {},
   "outputs": [],
   "source": []
  }
 ],
 "metadata": {
  "accelerator": "GPU",
  "colab": {
   "collapsed_sections": [],
   "name": "text_generation.ipynb",
   "toc_visible": true
  },
  "kernelspec": {
   "display_name": "Python 3",
   "language": "python",
   "name": "python3"
  },
  "language_info": {
   "codemirror_mode": {
    "name": "ipython",
    "version": 3
   },
   "file_extension": ".py",
   "mimetype": "text/x-python",
   "name": "python",
   "nbconvert_exporter": "python",
   "pygments_lexer": "ipython3",
   "version": "3.8.3"
  }
 },
 "nbformat": 4,
 "nbformat_minor": 1
}
